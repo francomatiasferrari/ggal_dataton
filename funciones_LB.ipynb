{
 "cells": [
  {
   "cell_type": "code",
   "execution_count": 1,
   "metadata": {},
   "outputs": [],
   "source": [
    "from datetime import date\n",
    "import calendar as c\n",
    "import pandas as pd\n",
    "import numpy as np"
   ]
  },
  {
   "cell_type": "markdown",
   "metadata": {},
   "source": [
    "#### Para testear las funciones, levanto los dataframes originales"
   ]
  },
  {
   "cell_type": "code",
   "execution_count": 4,
   "metadata": {},
   "outputs": [],
   "source": [
    "df_pageviews = pd.read_csv('data/pageviews.csv', parse_dates=['FEC_EVENT'])\n",
    "year = 2018\n",
    "mes_snapshot = 9\n",
    "\n",
    "def universo_train(df):\n",
    "    universo = pd.DataFrame()\n",
    "    universo['user_id'] = df.USER_ID.unique()\n",
    "    universo['snapshot_mes'] = mes_snapshot\n",
    "    return universo\n",
    "\n",
    "universo = universo_train(df_pageviews)"
   ]
  },
  {
   "cell_type": "code",
   "execution_count": 5,
   "metadata": {},
   "outputs": [],
   "source": [
    "def _sum_campo_user(df_pageviews, campo):\n",
    "    temp = pd.crosstab(df_pageviews.USER_ID, df_pageviews[campo]) \n",
    "    temp.columns = [campo + \"_\" + str(v) for v in temp.columns]\n",
    "    return temp"
   ]
  },
  {
   "cell_type": "code",
   "execution_count": 6,
   "metadata": {},
   "outputs": [],
   "source": [
    "def _sum_campo_user_between(df_pageviews, fecha_desde, fecha_hasta, campo):\n",
    "    df = df_pageviews[fecha_desde <= df_pageviews['FEC_EVENT']]\n",
    "    df = df[df['FEC_EVENT'] <= fecha_hasta]\n",
    "    return _sum_campo_user(df, campo)"
   ]
  },
  {
   "cell_type": "code",
   "execution_count": 7,
   "metadata": {},
   "outputs": [],
   "source": [
    "def _sum_total_user(df_pageviews, campo):\n",
    "    return df_pageviews.groupby(\"USER_ID\")[campo].sum()"
   ]
  },
  {
   "cell_type": "code",
   "execution_count": 8,
   "metadata": {},
   "outputs": [],
   "source": [
    "def _sum_total_user_between(df_pageviews, fecha_desde, fecha_hasta, campo):\n",
    "    df = df_pageviews[fecha_desde <= df_pageviews['FEC_EVENT']]\n",
    "    df = df[df['FEC_EVENT'] <= fecha_hasta]\n",
    "    return _sum_total_user(df, campo)"
   ]
  },
  {
   "cell_type": "code",
   "execution_count": 9,
   "metadata": {},
   "outputs": [],
   "source": [
    "def _sum_user_campo_all(df_pageviews, mes_snapshot, campo):\n",
    "    fecha_desde_1m = pd.Timestamp(year, mes_snapshot, 1)\n",
    "    fecha_desde_15d = pd.Timestamp(year, mes_snapshot, c.monthrange(year, mes_snapshot)[1] - 15)\n",
    "    fecha_desde_7d = pd.Timestamp(year, mes_snapshot, c.monthrange(year, mes_snapshot)[1] - 7)\n",
    "    fecha_desde_1d = pd.Timestamp(year, mes_snapshot, c.monthrange(year, mes_snapshot)[1] - 1)\n",
    "    fecha_hasta_last_day = pd.Timestamp(year, mes_snapshot, c.monthrange(year, mes_snapshot)[1])\n",
    "    \n",
    "    df_1m = _sum_campo_user_between(df_pageviews, fecha_desde_1m, fecha_hasta_last_day, campo)\n",
    "    df_15d = _sum_campo_user_between(df_pageviews, fecha_desde_15d, fecha_hasta_last_day, campo)\n",
    "    df_7d = _sum_campo_user_between(df_pageviews, fecha_desde_7d, fecha_hasta_last_day, campo)\n",
    "    df_1d =_sum_campo_user_between(df_pageviews, fecha_desde_1d, fecha_hasta_last_day, campo)\n",
    "    df_ever =_sum_campo_user(df_pageviews, campo)\n",
    "\n",
    "    tot_1m = _sum_total_user_between(df_pageviews, fecha_desde_1m, fecha_hasta_last_day, campo)\n",
    "    tot_15d = _sum_total_user_between(df_pageviews, fecha_desde_15d, fecha_hasta_last_day, campo)\n",
    "    tot_7d = _sum_total_user_between(df_pageviews, fecha_desde_7d, fecha_hasta_last_day, campo)    \n",
    "    tot_1d = _sum_total_user_between(df_pageviews, fecha_desde_1d, fecha_hasta_last_day, campo)\n",
    "    tot_ever = _sum_total_user(df_pageviews, campo)\n",
    "\n",
    "    return df_1m,df_15d, df_7d, df_1d, df_ever, tot_1m, tot_15d, tot_7d, tot_1d, tot_ever"
   ]
  },
  {
   "cell_type": "code",
   "execution_count": 112,
   "metadata": {},
   "outputs": [],
   "source": [
    "def _ratio_campo_df(df_numerador, df_denominador, name):\n",
    "    temp = df_numerador.div(df_denominador, axis=0)\n",
    "    temp.columns = [name + \"_\" + str(v) for v in temp.columns]\n",
    "    return temp"
   ]
  },
  {
   "cell_type": "code",
   "execution_count": 113,
   "metadata": {},
   "outputs": [],
   "source": [
    "def _ratio_campo_series(df_numerador, df_denominador, name):\n",
    "    temp = df_numerador.div(df_denominador, axis=0).to_frame()\n",
    "    temp.columns = [name + \"_\" + str(v) for v in temp.columns]\n",
    "    return temp"
   ]
  },
  {
   "cell_type": "code",
   "execution_count": 122,
   "metadata": {},
   "outputs": [],
   "source": [
    "def _ratio_campo_all(universo, df_pageviews, mes_snapshot, campo):\n",
    "    df_1m,df_15d, df_7d, df_1d, df_ever, tot_1m, tot_15d, tot_7d, tot_1d, tot_ever = _sum_user_campo_all(df_pageviews, mes_snapshot, campo)\n",
    "    \n",
    "    ratio_preferencia_1m = _ratio_campo_df(df_1m, tot_1m, 'ratio_preferencia_1m')\n",
    "    ratio_preferencia_15d = _ratio_campo_df(df_15d, tot_15d, 'ratio_preferencia_15d')\n",
    "    ratio_preferencia_7d = _ratio_campo_df(df_7d, tot_7d, 'ratio_preferencia_7d')\n",
    "    ratio_preferencia_1d = _ratio_campo_df(df_1d, tot_1d, 'ratio_preferencia_1d')\n",
    "    \n",
    "    ratio_interes_1m = _ratio_campo_df(df_1m, tot_ever, 'ratio_interes_1m')\n",
    "    ratio_interes_15d = _ratio_campo_df(df_15d, tot_ever, 'ratio_interes_15d')\n",
    "    ratio_interes_7d = _ratio_campo_df(df_7d, tot_ever, 'ratio_interes_7d')\n",
    "    ratio_interes_1d = _ratio_campo_df(df_1d, tot_ever, 'ratio_interes_1d')\n",
    "    \n",
    "    ratio_interes_reciente_15d = _ratio_campo_df(df_15d, tot_1m, 'ratio_interes_reciente_15d')\n",
    "    ratio_interes_reciente_7d = _ratio_campo_df(df_7d, tot_1m, 'ratio_interes_reciente_7d')\n",
    "    ratio_interes_reciente_1d = _ratio_campo_df(df_1d, tot_1m, 'ratio_interes_reciente_1d')\n",
    "\n",
    "    ratio_actividad_1m = _ratio_campo_series(tot_1m, tot_ever, 'ratio_actividad_1m')\n",
    "    ratio_actividad_15d = _ratio_campo_series(tot_15d, tot_ever, 'ratio_actividad_15d')\n",
    "    ratio_actividad_7d = _ratio_campo_series(tot_7d, tot_ever, 'ratio_actividad_7d')\n",
    "    ratio_actividad_1d = _ratio_campo_series(tot_1d, tot_ever, 'ratio_actividad_1d')\n",
    "    \n",
    "    df_union = pd.merge(universo, ratio_preferencia_1m, how='left', left_on=['user_id'], right_on=['USER_ID'])\n",
    "    df_union = pd.merge(df_union, ratio_preferencia_15d, how='left', left_on=['user_id'], right_on=['USER_ID'])\n",
    "    df_union = pd.merge(df_union, ratio_preferencia_7d, how='left', left_on=['user_id'], right_on=['USER_ID'])\n",
    "    df_union = pd.merge(df_union, ratio_preferencia_1d, how='left', left_on=['user_id'], right_on=['USER_ID'])\n",
    "    \n",
    "    df_union = pd.merge(df_union, ratio_interes_1m, how='left', left_on=['user_id'], right_on=['USER_ID'])\n",
    "    df_union = pd.merge(df_union, ratio_interes_15d, how='left', left_on=['user_id'], right_on=['USER_ID'])\n",
    "    df_union = pd.merge(df_union, ratio_interes_7d, how='left', left_on=['user_id'], right_on=['USER_ID'])\n",
    "    df_union = pd.merge(df_union, ratio_interes_1d, how='left', left_on=['user_id'], right_on=['USER_ID'])\n",
    "    \n",
    "    df_union = pd.merge(df_union, ratio_interes_reciente_15d, how='left', left_on=['user_id'], right_on=['USER_ID'])\n",
    "    df_union = pd.merge(df_union, ratio_interes_reciente_7d, how='left', left_on=['user_id'], right_on=['USER_ID'])\n",
    "    df_union = pd.merge(df_union, ratio_interes_reciente_1d, how='left', left_on=['user_id'], right_on=['USER_ID'])\n",
    "\n",
    "    df_union = pd.merge(df_union, ratio_actividad_1m, how='left', left_on=['user_id'], right_on=['USER_ID'])\n",
    "    df_union = pd.merge(df_union, ratio_actividad_15d, how='left', left_on=['user_id'], right_on=['USER_ID'])\n",
    "    df_union = pd.merge(df_union, ratio_actividad_7d, how='left', left_on=['user_id'], right_on=['USER_ID'])\n",
    "    df_union = pd.merge(df_union, ratio_actividad_1d, how='left', left_on=['user_id'], right_on=['USER_ID'])\n",
    "    \n",
    "    return df_union"
   ]
  },
  {
   "cell_type": "code",
   "execution_count": 123,
   "metadata": {},
   "outputs": [],
   "source": [
    "def ratio_page_all(universo, df_pageviews, mes_snapshot):\n",
    "    campo = 'PAGE'\n",
    "    return _ratio_campo_all(universo, df_pageviews, mes_snapshot, campo)"
   ]
  },
  {
   "cell_type": "code",
   "execution_count": 106,
   "metadata": {},
   "outputs": [],
   "source": [
    "def ratio_ccategory_all(universo, df_pageviews, mes_snapshot):\n",
    "    campo = 'CONTENT_CATEGORY'\n",
    "    return _ratio_campo_all(universo, df_pageviews, mes_snapshot, campo)"
   ]
  },
  {
   "cell_type": "code",
   "execution_count": 107,
   "metadata": {},
   "outputs": [],
   "source": [
    "def ratio_cctop_all(universo, df_pageviews, mes_snapshot):\n",
    "    campo = 'CONTENT_CATEGORY_TOP'\n",
    "    return _ratio_campo_all(universo, df_pageviews, mes_snapshot, campo)"
   ]
  },
  {
   "cell_type": "code",
   "execution_count": 108,
   "metadata": {},
   "outputs": [],
   "source": [
    "def ratio_ccbottom_all(univesro, df_pageviews, mes_snapshot):\n",
    "    campo = 'CONTENT_CATEGORY_BOTTOM'\n",
    "    return _ratio_campo_all(universo, df_pageviews, mes_snapshot, campo)"
   ]
  }
 ],
 "metadata": {
  "kernelspec": {
   "display_name": "pythonenv",
   "language": "python",
   "name": "pythonenv"
  },
  "language_info": {
   "codemirror_mode": {
    "name": "ipython",
    "version": 3
   },
   "file_extension": ".py",
   "mimetype": "text/x-python",
   "name": "python",
   "nbconvert_exporter": "python",
   "pygments_lexer": "ipython3",
   "version": "3.7.2"
  }
 },
 "nbformat": 4,
 "nbformat_minor": 2
}
