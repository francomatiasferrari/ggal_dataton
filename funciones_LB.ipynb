{
 "cells": [
  {
   "cell_type": "code",
   "execution_count": null,
   "metadata": {},
   "outputs": [],
   "source": [
    "from datetime import date\n",
    "import calendar as c\n",
    "import pandas as pd\n",
    "import numpy as np"
   ]
  },
  {
   "cell_type": "code",
   "execution_count": null,
   "metadata": {},
   "outputs": [],
   "source": [
    "pd.set_option('display.max_rows', 500)\n",
    "pd.set_option('display.max_columns', 1500)\n",
    "pd.options.display.max_colwidth = 100000"
   ]
  },
  {
   "cell_type": "markdown",
   "metadata": {},
   "source": [
    "#### Para testear las funciones, levanto los dataframes originales"
   ]
  },
  {
   "cell_type": "code",
   "execution_count": null,
   "metadata": {},
   "outputs": [],
   "source": [
    "df_pageviews = pd.read_csv('data/pageviews.csv', parse_dates=['FEC_EVENT'])\n",
    "df_devicedata = pd.read_csv('data/device_data.csv', parse_dates=[\"FEC_EVENT\"])\n",
    "year = 2018\n",
    "mes_snapshot = 9\n",
    "\n",
    "def universo_train(df):\n",
    "    universo = pd.DataFrame()\n",
    "    universo['user_id'] = df.USER_ID.unique()\n",
    "    universo['snapshot_mes'] = mes_snapshot\n",
    "    return universo\n",
    "\n",
    "universo = universo_train(df_pageviews)"
   ]
  },
  {
   "cell_type": "code",
   "execution_count": null,
   "metadata": {},
   "outputs": [],
   "source": [
    "def _sum_campo_user(df_pageviews, campo):\n",
    "    temp = pd.crosstab(df_pageviews.USER_ID, df_pageviews[campo]) \n",
    "    temp.columns = [campo + \"_\" + str(v) for v in temp.columns]\n",
    "    temp = _df_refactor(temp)\n",
    "    return temp"
   ]
  },
  {
   "cell_type": "code",
   "execution_count": null,
   "metadata": {},
   "outputs": [],
   "source": [
    "def _df_refactor(df_temp):\n",
    "    df_union = pd.merge(universo, df_temp, how='left', left_on=['user_id'], right_on=['USER_ID'])\n",
    "    df_union = df_union.drop(['snapshot_mes'], axis=1)\n",
    "    df_union = df_union.sort_values('user_id')\n",
    "    return df_union"
   ]
  },
  {
   "cell_type": "code",
   "execution_count": null,
   "metadata": {},
   "outputs": [],
   "source": [
    "def _sum_campo_user_between(df_pageviews, fecha_desde, fecha_hasta, campo):\n",
    "    df = df_pageviews[fecha_desde <= df_pageviews['FEC_EVENT']]\n",
    "    df = df[df['FEC_EVENT'] <= fecha_hasta]\n",
    "    return _sum_campo_user(df, campo)"
   ]
  },
  {
   "cell_type": "code",
   "execution_count": null,
   "metadata": {},
   "outputs": [],
   "source": [
    "def _sum_total_user(df_pageviews, campo):\n",
    "    temp = df_pageviews.groupby(\"USER_ID\")[campo].sum().to_frame().reset_index()\n",
    "    temp = _df_refactor(temp)\n",
    "    temp = temp.drop(['USER_ID'], axis=1)\n",
    "    return temp"
   ]
  },
  {
   "cell_type": "code",
   "execution_count": null,
   "metadata": {},
   "outputs": [],
   "source": [
    "def _sum_total_user_between(df_pageviews, fecha_desde, fecha_hasta, campo):\n",
    "    df = df_pageviews[fecha_desde <= df_pageviews['FEC_EVENT']]\n",
    "    df = df[df['FEC_EVENT'] <= fecha_hasta]\n",
    "    return _sum_total_user(df, campo)"
   ]
  },
  {
   "cell_type": "code",
   "execution_count": null,
   "metadata": {},
   "outputs": [],
   "source": [
    "def _df_complete_columns(df_complete_original, df_incomplete):\n",
    "    df_complete = df_complete_original.copy()\n",
    "    df_complete[:] = 0\n",
    "    df = pd.DataFrame()\n",
    "    for a_column in df_complete:\n",
    "        if a_column in df_incomplete.columns:\n",
    "            df[a_column] = df_incomplete[a_column]\n",
    "        else:\n",
    "            df[a_column] = df_complete[a_column]\n",
    "    return df"
   ]
  },
  {
   "cell_type": "code",
   "execution_count": null,
   "metadata": {},
   "outputs": [],
   "source": [
    "def _df_repeat_columns(df_complete_original, df_incomplete):\n",
    "    users = df_complete_original['user_id']\n",
    "    df_complete = df_complete_original.copy()\n",
    "    df = df_complete[[df_complete.columns[i] for i in range(df_complete.shape[1]-1)]]\n",
    "    df['user_id'] = users\n",
    "    return df"
   ]
  },
  {
   "cell_type": "code",
   "execution_count": null,
   "metadata": {},
   "outputs": [],
   "source": [
    "def _sum_user_campo_all(df_pageviews, mes_snapshot, campo):\n",
    "    fecha_desde_3m = pd.Timestamp(year, mes_snapshot - 2, 1)\n",
    "    fecha_desde_1m = pd.Timestamp(year, mes_snapshot, 1)\n",
    "    fecha_desde_15d = pd.Timestamp(year, mes_snapshot, c.monthrange(year, mes_snapshot)[1] - 15)\n",
    "    fecha_desde_7d = pd.Timestamp(year, mes_snapshot, c.monthrange(year, mes_snapshot)[1] - 7)\n",
    "    fecha_desde_1d = pd.Timestamp(year, mes_snapshot, c.monthrange(year, mes_snapshot)[1] - 1)\n",
    "    fecha_hasta_last_day = pd.Timestamp(year, mes_snapshot, c.monthrange(year, mes_snapshot)[1])\n",
    "    \n",
    "    df_3m = _sum_campo_user_between(df_pageviews, fecha_desde_3m, fecha_hasta_last_day, campo)\n",
    "    df_1m = _sum_campo_user_between(df_pageviews, fecha_desde_1m, fecha_hasta_last_day, campo)\n",
    "    df_15d = _sum_campo_user_between(df_pageviews, fecha_desde_15d, fecha_hasta_last_day, campo)\n",
    "    df_7d = _sum_campo_user_between(df_pageviews, fecha_desde_7d, fecha_hasta_last_day, campo)\n",
    "    df_1d =_sum_campo_user_between(df_pageviews, fecha_desde_1d, fecha_hasta_last_day, campo)\n",
    "    df_ever =_sum_campo_user(df_pageviews, campo)\n",
    "\n",
    "    tot_3m = _sum_total_user_between(df_pageviews, fecha_desde_3m, fecha_hasta_last_day, campo)\n",
    "    tot_1m = _sum_total_user_between(df_pageviews, fecha_desde_1m, fecha_hasta_last_day, campo)\n",
    "    tot_15d = _sum_total_user_between(df_pageviews, fecha_desde_15d, fecha_hasta_last_day, campo)\n",
    "    tot_7d = _sum_total_user_between(df_pageviews, fecha_desde_7d, fecha_hasta_last_day, campo)    \n",
    "    tot_1d = _sum_total_user_between(df_pageviews, fecha_desde_1d, fecha_hasta_last_day, campo)\n",
    "    tot_ever = _sum_total_user(df_pageviews, campo)\n",
    "    \n",
    "    df_3m =_df_complete_columns(df_ever, df_3m)\n",
    "    df_1m =_df_complete_columns(df_ever, df_1m)\n",
    "    df_15d =_df_complete_columns(df_ever, df_15d)\n",
    "    df_7d =_df_complete_columns(df_ever, df_7d)\n",
    "    df_1d =_df_complete_columns(df_ever, df_1d)\n",
    "    \n",
    "    return df_3m, df_1m, df_15d, df_7d, df_1d, df_ever, tot_3m, tot_1m, tot_15d, tot_7d, tot_1d, tot_ever"
   ]
  },
  {
   "cell_type": "code",
   "execution_count": null,
   "metadata": {},
   "outputs": [],
   "source": [
    "def _ratio_campo_df(df_numerador, df_denominador, name):\n",
    "    #Eliminar columnar user_id para que no la divida\n",
    "    users = df_numerador['user_id']\n",
    "    df_numerador = df_numerador.drop(['user_id'], axis = 1)\n",
    "    df_denominador = df_denominador.drop(['user_id'], axis = 1)\n",
    "    \n",
    "    #División element-wise\n",
    "    temp = df_numerador.div(df_denominador, axis=0, fill_value = 0)\n",
    "    temp.columns = [name + \"_\" + str(v) for v in temp.columns]\n",
    "\n",
    "    #Agrega columna user_id\n",
    "    temp['user_id'] = users\n",
    "\n",
    "    #Completa Nan\n",
    "    temp = temp.fillna(-999)\n",
    "    return temp"
   ]
  },
  {
   "cell_type": "code",
   "execution_count": null,
   "metadata": {},
   "outputs": [],
   "source": [
    "def _ratio_campo_all(universo, df_pageviews, mes_snapshot, campo):\n",
    "    df_3m, df_1m, df_15d, df_7d, df_1d, df_ever, tot_3m, tot_1m, tot_15d, tot_7d, tot_1d, tot_ever = _sum_user_campo_all(df_pageviews, mes_snapshot, campo)\n",
    "\n",
    "    tot_3m_r = _df_repeat_columns(df_ever, tot_3m)\n",
    "    tot_1m_r = _df_repeat_columns(df_ever, tot_1m)\n",
    "    tot_15d_r = _df_repeat_columns(df_ever, tot_15d)\n",
    "    tot_7d_r = _df_repeat_columns(df_ever, tot_7d)\n",
    "    tot_1d_r = _df_repeat_columns(df_ever, tot_1d)\n",
    "    tot_ever_r = _df_repeat_columns(df_ever, tot_ever)\n",
    "    \n",
    "    print('llegue 1/9')\n",
    "    ratio_preferencia_3m = _ratio_campo_df(df_3m, tot_3m_r, 'ratio_preferencia_3m')\n",
    "    ratio_preferencia_1m = _ratio_campo_df(df_1m, tot_1m_r, 'ratio_preferencia_1m')\n",
    "    ratio_preferencia_15d = _ratio_campo_df(df_15d, tot_15d_r, 'ratio_preferencia_15d')\n",
    "    ratio_preferencia_7d = _ratio_campo_df(df_7d, tot_7d_r, 'ratio_preferencia_7d')\n",
    "    ratio_preferencia_1d = _ratio_campo_df(df_1d, tot_1d_r, 'ratio_preferencia_1d')\n",
    "    print('llegue 2/9')\n",
    "    ratio_interes_3m = _ratio_campo_df(df_3m, df_ever, 'ratio_interes_3m')\n",
    "    ratio_interes_1m = _ratio_campo_df(df_1m, df_ever, 'ratio_interes_1m')\n",
    "    ratio_interes_15d = _ratio_campo_df(df_15d, df_ever, 'ratio_interes_15d')\n",
    "    ratio_interes_7d = _ratio_campo_df(df_7d, df_ever, 'ratio_interes_7d')\n",
    "    ratio_interes_1d = _ratio_campo_df(df_1d, df_ever, 'ratio_interes_1d')\n",
    "    print('llegue 3/9')\n",
    "    ratio_interes_reciente_1m = _ratio_campo_df(df_1m, df_3m, 'ratio_interes_reciente_1m')\n",
    "    ratio_interes_reciente_15d = _ratio_campo_df(df_15d, df_3m, 'ratio_interes_reciente_15d')\n",
    "    ratio_interes_reciente_7d = _ratio_campo_df(df_7d, df_3m, 'ratio_interes_reciente_7d')\n",
    "    ratio_interes_reciente_1d = _ratio_campo_df(df_1d, df_3m, 'ratio_interes_reciente_1d')\n",
    "    print('llegue 4/9')\n",
    "    ratio_actividad_3m = _ratio_campo_df(tot_3m, tot_ever, 'ratio_actividad_3m')\n",
    "    ratio_actividad_1m = _ratio_campo_df(tot_1m, tot_ever, 'ratio_actividad_1m')\n",
    "    ratio_actividad_15d = _ratio_campo_df(tot_15d, tot_3m, 'ratio_actividad_15d')\n",
    "    ratio_actividad_7d = _ratio_campo_df(tot_7d, tot_3m, 'ratio_actividad_7d')\n",
    "    ratio_actividad_1d = _ratio_campo_df(tot_1d, tot_3m, 'ratio_actividad_1d')\n",
    "    print('llegue 5/9')\n",
    "    df_union = pd.merge(universo, ratio_preferencia_3m, how='left', left_on=['user_id'], right_on=['user_id'])\n",
    "    df_union = pd.merge(df_union, ratio_preferencia_1m, how='left', left_on=['user_id'], right_on=['user_id'])\n",
    "    df_union = pd.merge(df_union, ratio_preferencia_15d, how='left', left_on=['user_id'], right_on=['user_id'])\n",
    "    df_union = pd.merge(df_union, ratio_preferencia_7d, how='left', left_on=['user_id'], right_on=['user_id'])\n",
    "    df_union = pd.merge(df_union, ratio_preferencia_1d, how='left', left_on=['user_id'], right_on=['user_id'])\n",
    "    print('llegue 6/9')\n",
    "    df_union = pd.merge(df_union, ratio_interes_3m, how='left', left_on=['user_id'], right_on=['user_id'])\n",
    "    df_union = pd.merge(df_union, ratio_interes_1m, how='left', left_on=['user_id'], right_on=['user_id'])\n",
    "    df_union = pd.merge(df_union, ratio_interes_15d, how='left', left_on=['user_id'], right_on=['user_id'])\n",
    "    df_union = pd.merge(df_union, ratio_interes_7d, how='left', left_on=['user_id'], right_on=['user_id'])\n",
    "    df_union = pd.merge(df_union, ratio_interes_1d, how='left', left_on=['user_id'], right_on=['user_id'])\n",
    "    print('llegue 7/9')\n",
    "    df_union = pd.merge(df_union, ratio_interes_reciente_1m, how='left', left_on=['user_id'], right_on=['user_id'])\n",
    "    df_union = pd.merge(df_union, ratio_interes_reciente_15d, how='left', left_on=['user_id'], right_on=['user_id'])\n",
    "    df_union = pd.merge(df_union, ratio_interes_reciente_7d, how='left', left_on=['user_id'], right_on=['user_id'])\n",
    "    df_union = pd.merge(df_union, ratio_interes_reciente_1d, how='left', left_on=['user_id'], right_on=['user_id'])\n",
    "    print('llegue 8/9')\n",
    "    df_union = pd.merge(df_union, ratio_actividad_3m, how='left', left_on=['user_id'], right_on=['user_id'] )\n",
    "    df_union = pd.merge(df_union, ratio_actividad_1m, how='left', left_on=['user_id'], right_on=['user_id'])\n",
    "    df_union = pd.merge(df_union, ratio_actividad_15d, how='left', left_on=['user_id'], right_on=['user_id'])\n",
    "    df_union = pd.merge(df_union, ratio_actividad_7d, how='left', left_on=['user_id'], right_on=['user_id'])\n",
    "    df_union = pd.merge(df_union, ratio_actividad_1d, how='left', left_on=['user_id'], right_on=['user_id'])\n",
    "    print('llegue 9/9')\n",
    "    return df_union"
   ]
  },
  {
   "cell_type": "code",
   "execution_count": null,
   "metadata": {},
   "outputs": [],
   "source": [
    "def ratio_page_all(universo, df_pageviews, mes_snapshot):\n",
    "    campo = 'PAGE'\n",
    "    return _ratio_campo_all(universo, df_pageviews, mes_snapshot, campo)"
   ]
  },
  {
   "cell_type": "code",
   "execution_count": null,
   "metadata": {},
   "outputs": [],
   "source": [
    "def ratio_ccategory_all(universo, df_pageviews, mes_snapshot):\n",
    "    campo = 'CONTENT_CATEGORY'\n",
    "    return _ratio_campo_all(universo, df_pageviews, mes_snapshot, campo)"
   ]
  },
  {
   "cell_type": "code",
   "execution_count": null,
   "metadata": {},
   "outputs": [],
   "source": [
    "def ratio_cctop_all(universo, df_pageviews, mes_snapshot):\n",
    "    campo = 'CONTENT_CATEGORY_TOP'\n",
    "    return _ratio_campo_all(universo, df_pageviews, mes_snapshot, campo)"
   ]
  },
  {
   "cell_type": "code",
   "execution_count": null,
   "metadata": {},
   "outputs": [],
   "source": [
    "def ratio_ccbottom_all(universo, df_pageviews, mes_snapshot):\n",
    "    campo = 'CONTENT_CATEGORY_BOTTOM'\n",
    "    return _ratio_campo_all(universo, df_pageviews, mes_snapshot, campo)"
   ]
  },
  {
   "cell_type": "code",
   "execution_count": null,
   "metadata": {},
   "outputs": [],
   "source": [
    "def ratio_site_id_all(universo, df_pageviews, mes_snapshot):\n",
    "    campo = 'SITE_ID'\n",
    "    return _ratio_campo_all(universo, df_pageviews, mes_snapshot, campo)"
   ]
  },
  {
   "cell_type": "code",
   "execution_count": null,
   "metadata": {},
   "outputs": [],
   "source": [
    "def ratio_mobile_device_all(universo, df_devicedata, mes_snapshot):\n",
    "    campo = 'IS_MOBILE_DEVICE'\n",
    "    return _ratio_campo_all(universo, df_devicedata, mes_snapshot, campo)"
   ]
  },
  {
   "cell_type": "code",
   "execution_count": null,
   "metadata": {},
   "outputs": [],
   "source": [
    "def ratio_connection_speed_all(universo, df_devicedata, mes_snapshot):\n",
    "    campo = 'CONNECTION_SPEED'\n",
    "    return _ratio_campo_all(universo, df_devicedata, mes_snapshot, campo)"
   ]
  },
  {
   "cell_type": "code",
   "execution_count": null,
   "metadata": {},
   "outputs": [],
   "source": [
    "def ratio_on_site_search_term_all(universo, df_devicedata, mes_snapshot):\n",
    "    campo = 'ON_SITE_SEARCH_TERM'\n",
    "    return _ratio_campo_all(universo, df_devicedata, mes_snapshot, campo)"
   ]
  }
 ],
 "metadata": {
  "kernelspec": {
   "display_name": "pythonenv",
   "language": "python",
   "name": "pythonenv"
  },
  "language_info": {
   "codemirror_mode": {
    "name": "ipython",
    "version": 3
   },
   "file_extension": ".py",
   "mimetype": "text/x-python",
   "name": "python",
   "nbconvert_exporter": "python",
   "pygments_lexer": "ipython3",
   "version": "3.7.2"
  }
 },
 "nbformat": 4,
 "nbformat_minor": 2
}
