{
 "cells": [
  {
   "cell_type": "code",
   "execution_count": null,
   "metadata": {},
   "outputs": [],
   "source": [
    "from datetime import date\n",
    "import calendar as c\n",
    "import pandas as pd\n",
    "import numpy as np"
   ]
  },
  {
   "cell_type": "markdown",
   "metadata": {},
   "source": [
    "#### Para testear las funciones, levanto los dataframes originales"
   ]
  },
  {
   "cell_type": "code",
   "execution_count": null,
   "metadata": {},
   "outputs": [],
   "source": [
    "df_pageviews = pd.read_csv('data/pageviews.csv', parse_dates=['FEC_EVENT'])\n",
    "year = 2018"
   ]
  },
  {
   "cell_type": "code",
   "execution_count": null,
   "metadata": {},
   "outputs": [],
   "source": [
    "def _sum_campo_user(df_pageviews, campo):\n",
    "    temp = pd.crosstab(df_pageviews.USER_ID, df_pageviews[campo]) \n",
    "    temp.columns = [campo + \"_\" + str(v) for v in temp.columns]\n",
    "    return temp"
   ]
  },
  {
   "cell_type": "code",
   "execution_count": null,
   "metadata": {},
   "outputs": [],
   "source": [
    "def _sum_campo_user_between(df_pageviews, fecha_desde, fecha_hasta, campo):\n",
    "    df = df_pageviews[fecha_desde <= df_pageviews['FEC_EVENT']]\n",
    "    df = df[df['FEC_EVENT'] <= fecha_hasta]\n",
    "    return _sum_campo_user(df, campo)"
   ]
  },
  {
   "cell_type": "code",
   "execution_count": null,
   "metadata": {},
   "outputs": [],
   "source": [
    "def _sum_total_user(df_pageviews, campo):\n",
    "    return df_pageviews.groupby(\"USER_ID\")[campo].sum()"
   ]
  },
  {
   "cell_type": "code",
   "execution_count": null,
   "metadata": {},
   "outputs": [],
   "source": [
    "def _sum_total_user_between(df_pageviews, fecha_desde, fecha_hasta, campo):\n",
    "    df = df_pageviews[fecha_desde <= df_pageviews['FEC_EVENT']]\n",
    "    df = df[df['FEC_EVENT'] <= fecha_hasta]\n",
    "    return _sum_total_user(df, campo)"
   ]
  },
  {
   "cell_type": "code",
   "execution_count": null,
   "metadata": {},
   "outputs": [],
   "source": [
    "def _sum_campo_user_1m(df_pageviews, mes_snapshot, campo):\n",
    "    fecha_desde = pd.Timestamp(year, mes_snapshot, 1)\n",
    "    fecha_hasta = pd.Timestamp(year, mes_snapshot, c.monthrange(year, mes_snapshot)[1])\n",
    "    return _sum_campo_user_between(df_pageviews, fecha_desde, fecha_hasta, campo)"
   ]
  },
  {
   "cell_type": "code",
   "execution_count": null,
   "metadata": {},
   "outputs": [],
   "source": [
    "def _sum_campo_user_15d(df_pageviews, mes_snapshot, campo):\n",
    "    fecha_desde = pd.Timestamp(year, mes_snapshot, c.monthrange(year, mes_snapshot)[1] - 15)\n",
    "    fecha_hasta = pd.Timestamp(year, mes_snapshot, c.monthrange(year, mes_snapshot)[1])\n",
    "    return _sum_campo_user_between(df_pageviews, fecha_desde, fecha_hasta, campo)"
   ]
  },
  {
   "cell_type": "code",
   "execution_count": null,
   "metadata": {},
   "outputs": [],
   "source": [
    "def _sum_campo_user_7d(df_pageviews, mes_snapshot, campo):\n",
    "    fecha_desde = pd.Timestamp(year, mes_snapshot, c.monthrange(year, mes_snapshot)[1] - 7)\n",
    "    fecha_hasta = pd.Timestamp(year, mes_snapshot, c.monthrange(year, mes_snapshot)[1])\n",
    "    return _sum_campo_user_between(df_pageviews, fecha_desde, fecha_hasta, campo)"
   ]
  },
  {
   "cell_type": "code",
   "execution_count": null,
   "metadata": {},
   "outputs": [],
   "source": [
    "def _sum_campo_user_1d(df_pageviews, mes_snapshot, campo):\n",
    "    fecha_desde = pd.Timestamp(year, mes_snapshot, c.monthrange(year, mes_snapshot)[1] - 1)\n",
    "    fecha_hasta = pd.Timestamp(year, mes_snapshot, c.monthrange(year, mes_snapshot)[1])\n",
    "    return _sum_campo_user_between(df_pageviews, fecha_desde, fecha_hasta, campo)"
   ]
  },
  {
   "cell_type": "code",
   "execution_count": null,
   "metadata": {},
   "outputs": [],
   "source": [
    "def _sum_total_user_1m(df_pageviews, mes_snapshot, campo):\n",
    "    fecha_desde = pd.Timestamp(year, mes_snapshot, 1)\n",
    "    fecha_hasta = pd.Timestamp(year, mes_snapshot, c.monthrange(year, mes_snapshot)[1])\n",
    "    return _sum_total_user_between(df_pageviews, fecha_desde, fecha_hasta, campo)"
   ]
  },
  {
   "cell_type": "code",
   "execution_count": null,
   "metadata": {},
   "outputs": [],
   "source": [
    "def _sum_total_user_15d(df_pageviews, mes_snapshot, campo):\n",
    "    fecha_desde = pd.Timestamp(year, mes_snapshot, c.monthrange(year, mes_snapshot)[1] - 15)\n",
    "    fecha_hasta = pd.Timestamp(year, mes_snapshot, c.monthrange(year, mes_snapshot)[1])\n",
    "    return _sum_total_user_between(df_pageviews, fecha_desde, fecha_hasta, campo)"
   ]
  },
  {
   "cell_type": "code",
   "execution_count": null,
   "metadata": {},
   "outputs": [],
   "source": [
    "def _sum_total_user_7d(df_pageviews, mes_snapshot, campo):\n",
    "    fecha_desde = pd.Timestamp(year, mes_snapshot, c.monthrange(year, mes_snapshot)[1] - 7)\n",
    "    fecha_hasta = pd.Timestamp(year, mes_snapshot, c.monthrange(year, mes_snapshot)[1])\n",
    "    return _sum_total_user_between(df_pageviews, fecha_desde, fecha_hasta, campo)"
   ]
  },
  {
   "cell_type": "code",
   "execution_count": null,
   "metadata": {},
   "outputs": [],
   "source": [
    "def _sum_total_user_1d(df_pageviews, mes_snapshot, campo):\n",
    "    fecha_desde = pd.Timestamp(year, mes_snapshot, c.monthrange(year, mes_snapshot)[1] - 1)\n",
    "    fecha_hasta = pd.Timestamp(year, mes_snapshot, c.monthrange(year, mes_snapshot)[1])\n",
    "    return _sum_total_user_between(df_pageviews, fecha_desde, fecha_hasta, campo)"
   ]
  },
  {
   "cell_type": "code",
   "execution_count": null,
   "metadata": {},
   "outputs": [],
   "source": [
    "def _ratio_page_all(df_pageviews, mes_snapshot, campo):\n",
    "    df_1m = _sum_campo_user_1m(df_pageviews, mes_snapshot, campo)\n",
    "    df_15d = _sum_campo_user_15d(df_pageviews, mes_snapshot, campo)\n",
    "    df_7d = _sum_campo_user_7d(df_pageviews, mes_snapshot, campo)\n",
    "    df_1d =_sum_campo_user_1d(df_pageviews, mes_snapshot, campo)\n",
    "    df_ever =_sum_campo_user(df_pageviews, campo)\n",
    "\n",
    "    tot_1m = _sum_total_user_1m(df_pageviews, mes_snapshot, campo)\n",
    "    tot_15d = _sum_total_user_15m(df_pageviews, mes_snapshot, campo)\n",
    "    tot_7d = _sum_total_user_17m(df_pageviews, mes_snapshot, campo)    \n",
    "    tot_1d = _sum_total_user_1d(df_pageviews, mes_snapshot, campo)\n",
    "    tot_ever = _sum_total_user(df_pageviews, campo)\n",
    "\n",
    "    return df_1m,df_15d, df_7d, df_1d, df_ever, tot_1m, tot_15d, tot_7d, tot_1d, tot_ever"
   ]
  },
  {
   "cell_type": "code",
   "execution_count": null,
   "metadata": {},
   "outputs": [],
   "source": [
    "def _ratio_all(df_pageviews, mes_snapshot, campo):\n",
    "    df_1m,df_15d, df_7d, df_1d, df_ever, tot_1m, tot_15d, tot_7d, tot_1d, tot_ever =_ratio_page_all(df_pageviews, mes_snapshot, campo)\n",
    "    \n",
    "    ratio_preferencia_1m = df_1m.div(tot_1m, axis=0)\n",
    "    ratio_preferencia_15d = df_15d.div(tot_15d, axis=0)\n",
    "    \n",
    "    \n",
    "    #completar \n",
    "    \n",
    "    \n",
    "    \n",
    "    return ratio_preferencia_1m, ratio_preferencia_15d"
   ]
  },
  {
   "cell_type": "code",
   "execution_count": null,
   "metadata": {},
   "outputs": [],
   "source": [
    "def ratio_page_all(df_pageviews, mes_snapshot):\n",
    "    campo = 'PAGE'\n",
    "    return ratio_all(df_pageviews, mes_snapshot, campo)"
   ]
  },
  {
   "cell_type": "code",
   "execution_count": null,
   "metadata": {},
   "outputs": [],
   "source": [
    "def ratio_ccategory_all(df_pageviews, mes_snapshot):\n",
    "    campo = 'CONTENT_CATEGORY'\n",
    "    return ratio_all(df_pageviews, mes_snapshot, campo)"
   ]
  },
  {
   "cell_type": "code",
   "execution_count": null,
   "metadata": {},
   "outputs": [],
   "source": [
    "def ratio_cctop_all(df_pageviews, mes_snapshot):\n",
    "    campo = 'CONTENT_CATEGORY_TOP'\n",
    "    return ratio_all(df_pageviews, mes_snapshot, campo)"
   ]
  },
  {
   "cell_type": "code",
   "execution_count": null,
   "metadata": {},
   "outputs": [],
   "source": [
    "def ratio_ccbottom_all(df_pageviews, mes_snapshot):\n",
    "    campo = 'CONTENT_CATEGORY_BOTTOM'\n",
    "    return ratio_all(df_pageviews, mes_snapshot, campo)"
   ]
  }
 ],
 "metadata": {
  "kernelspec": {
   "display_name": "pythonenv",
   "language": "python",
   "name": "pythonenv"
  },
  "language_info": {
   "codemirror_mode": {
    "name": "ipython",
    "version": 3
   },
   "file_extension": ".py",
   "mimetype": "text/x-python",
   "name": "python",
   "nbconvert_exporter": "python",
   "pygments_lexer": "ipython3",
   "version": "3.7.2"
  }
 },
 "nbformat": 4,
 "nbformat_minor": 2
}
