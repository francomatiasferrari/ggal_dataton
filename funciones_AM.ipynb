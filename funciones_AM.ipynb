{
 "cells": [
  {
   "cell_type": "code",
   "execution_count": 1,
   "metadata": {},
   "outputs": [],
   "source": [
    "from datetime import date\n",
    "import calendar as c\n",
    "import pandas as pd\n",
    "import numpy as np"
   ]
  },
  {
   "cell_type": "markdown",
   "metadata": {},
   "source": [
    "#### Para testear las funciones, levanto los dataframes originales"
   ]
  },
  {
   "cell_type": "code",
   "execution_count": 2,
   "metadata": {},
   "outputs": [],
   "source": [
    "df_pageviews = pd.read_csv('data/pageviews.csv', parse_dates=['FEC_EVENT'])\n",
    "df_adoption = pd.read_csv(\"./data/conversiones.csv\")\n",
    "year = 2018\n",
    "mes_snapshot = 9\n",
    "\n",
    "def universo_train(df):\n",
    "    universo = pd.DataFrame()\n",
    "    universo['user_id'] = df.USER_ID.unique()\n",
    "    universo['snapshot_mes'] = mes_snapshot\n",
    "    return universo\n",
    "\n",
    "universo = universo_train(df_pageviews)"
   ]
  },
  {
   "cell_type": "code",
   "execution_count": 3,
   "metadata": {},
   "outputs": [],
   "source": [
    "def _sum_campo_user(df_pageviews, campo):\n",
    "    temp = pd.crosstab(df_pageviews.USER_ID, df_pageviews[campo]) \n",
    "    temp.columns = [campo + \"_\" + str(v) for v in temp.columns]\n",
    "    return temp.reset_index()"
   ]
  },
  {
   "cell_type": "code",
   "execution_count": 4,
   "metadata": {},
   "outputs": [],
   "source": [
    "def _sum_total_user(df_pageviews, campo):\n",
    "    return df_pageviews.groupby(\"USER_ID\")[campo].sum()"
   ]
  },
  {
   "cell_type": "code",
   "execution_count": 5,
   "metadata": {},
   "outputs": [],
   "source": [
    "def _ratio_campo_df(df_numerador, df_denominador, name):\n",
    "    temp = df_numerador.div(df_denominador, axis=0)\n",
    "    temp.columns = [name + \"_\" + str(v) for v in temp.columns]\n",
    "    return temp"
   ]
  },
  {
   "cell_type": "code",
   "execution_count": 6,
   "metadata": {},
   "outputs": [],
   "source": [
    "def _ratio_campo_series(df_numerador, df_denominador, name):\n",
    "    temp = df_numerador.div(df_denominador, axis=0).to_frame()\n",
    "    temp.columns = [name + \"_\" + str(v) for v in temp.columns]\n",
    "    return temp"
   ]
  },
  {
   "cell_type": "code",
   "execution_count": 7,
   "metadata": {},
   "outputs": [],
   "source": [
    "def _universo_last_adoption_month(universo, df_adoption):\n",
    "    df_last_adoption = df_adoption.groupby('USER_ID')[('mes','anio')].max().reset_index()\n",
    "    return df_last_adoption"
   ]
  },
  {
   "cell_type": "code",
   "execution_count": 8,
   "metadata": {},
   "outputs": [],
   "source": [
    "def _get_valid_pageviews_last_adoption(universo, df_pageviews, df_adoption):\n",
    "    df_last_adoption = _universo_last_adoption_month(universo, df_adoption)\n",
    "    df_last_adoption_page = pd.merge(df_last_adoption, df_pageviews, how='left', left_on=['USER_ID'], right_on=['USER_ID'])\n",
    "\n",
    "    df_last_adoption_page['last_adoption_month'] = pd.to_datetime(dict(year=df_last_adoption_page.anio, month=df_last_adoption_page.mes, day=1))\n",
    "    df_last_adoption_page['valid_data_from'] = df_last_adoption_page.last_adoption_month + pd.DateOffset(months=-1)\n",
    "    df_last_adoption_page['valid_data_to'] = df_last_adoption_page.last_adoption_month\n",
    "    \n",
    "    df_last_adoption_page = df_last_adoption_page[df_last_adoption_page['FEC_EVENT'] >= df_last_adoption_page['valid_data_from']]\n",
    "    df_last_adoption_page = df_last_adoption_page[df_last_adoption_page['FEC_EVENT'] < df_last_adoption_page['valid_data_to']]\n",
    "    df_last_adoption_page = pd.merge(universo, df_last_adoption_page, how='left', left_on=['user_id'], right_on=['USER_ID'])\n",
    "    \n",
    "    return df_last_adoption_page"
   ]
  },
  {
   "cell_type": "code",
   "execution_count": 9,
   "metadata": {},
   "outputs": [],
   "source": [
    "def _get_valid_pageviews_last_month(universo, df_pageviews, mes_snapshot):\n",
    "    df_last_month = pd.merge(universo, df_pageviews, how='left', left_on=['user_id'], right_on=['USER_ID'])\n",
    "    \n",
    "    df_last_month['valid_data_to'] = pd.to_datetime(dict(year=year, month=df_last_month.snapshot_mes, day=1))\n",
    "    df_last_month['valid_data_from'] = df_last_month.valid_data_to + pd.DateOffset(months=-1)\n",
    "    \n",
    "    df_last_month = df_last_month[df_last_month['FEC_EVENT'] >= df_last_month['valid_data_from']]\n",
    "    df_last_month = df_last_month[df_last_month['FEC_EVENT'] < df_last_month['valid_data_to']]\n",
    "    df_last_month = pd.merge(universo, df_last_month, how='left', left_on=['user_id'], right_on=['USER_ID'])\n",
    "    return df_last_month"
   ]
  },
  {
   "cell_type": "code",
   "execution_count": 10,
   "metadata": {},
   "outputs": [],
   "source": [
    "def _all_pageview_last_adoption_and_last_month(universo, df_pageviews, df_adoption, mes_snapshot, campo):\n",
    "    pageviews_last_adoption = _get_valid_pageviews_last_adoption(universo, df_pageviews, df_adoption)\n",
    "    pageviews_last_adoption_sum = _sum_campo_user(pageviews_last_adoption, campo)\n",
    "    pageviews_last_adoption_sum_tot = _sum_total_user(pageviews_last_adoption, campo)\n",
    "    \n",
    "    pageviews_last_month = _get_valid_pageviews_last_month(universo, df_pageviews, mes_snapshot)\n",
    "    pageviews_last_month_sum = _sum_campo_user(pageviews_last_month, campo)\n",
    "    pageviews_last_month_sum_tot = _sum_total_user(pageviews_last_month, campo)\n",
    "    \n",
    "    return pageviews_last_adoption_sum, pageviews_last_adoption_sum_tot, pageviews_last_month_sum, pageviews_last_adoption_sum_tot"
   ]
  },
  {
   "cell_type": "code",
   "execution_count": 28,
   "metadata": {},
   "outputs": [
    {
     "data": {
      "text/html": [
       "<div>\n",
       "<style scoped>\n",
       "    .dataframe tbody tr th:only-of-type {\n",
       "        vertical-align: middle;\n",
       "    }\n",
       "\n",
       "    .dataframe tbody tr th {\n",
       "        vertical-align: top;\n",
       "    }\n",
       "\n",
       "    .dataframe thead th {\n",
       "        text-align: right;\n",
       "    }\n",
       "</style>\n",
       "<table border=\"1\" class=\"dataframe\">\n",
       "  <thead>\n",
       "    <tr style=\"text-align: right;\">\n",
       "      <th></th>\n",
       "      <th>user_id</th>\n",
       "      <th>snapshot_mes</th>\n",
       "    </tr>\n",
       "  </thead>\n",
       "  <tbody>\n",
       "    <tr>\n",
       "      <th>0</th>\n",
       "      <td>0</td>\n",
       "      <td>9</td>\n",
       "    </tr>\n",
       "    <tr>\n",
       "      <th>1</th>\n",
       "      <td>1</td>\n",
       "      <td>9</td>\n",
       "    </tr>\n",
       "    <tr>\n",
       "      <th>2</th>\n",
       "      <td>2</td>\n",
       "      <td>9</td>\n",
       "    </tr>\n",
       "    <tr>\n",
       "      <th>3</th>\n",
       "      <td>3</td>\n",
       "      <td>9</td>\n",
       "    </tr>\n",
       "    <tr>\n",
       "      <th>4</th>\n",
       "      <td>4</td>\n",
       "      <td>9</td>\n",
       "    </tr>\n",
       "    <tr>\n",
       "      <th>5</th>\n",
       "      <td>5</td>\n",
       "      <td>9</td>\n",
       "    </tr>\n",
       "    <tr>\n",
       "      <th>6</th>\n",
       "      <td>6</td>\n",
       "      <td>9</td>\n",
       "    </tr>\n",
       "    <tr>\n",
       "      <th>7</th>\n",
       "      <td>7</td>\n",
       "      <td>9</td>\n",
       "    </tr>\n",
       "    <tr>\n",
       "      <th>8</th>\n",
       "      <td>8</td>\n",
       "      <td>9</td>\n",
       "    </tr>\n",
       "    <tr>\n",
       "      <th>9</th>\n",
       "      <td>9</td>\n",
       "      <td>9</td>\n",
       "    </tr>\n",
       "  </tbody>\n",
       "</table>\n",
       "</div>"
      ],
      "text/plain": [
       "   user_id  snapshot_mes\n",
       "0        0             9\n",
       "1        1             9\n",
       "2        2             9\n",
       "3        3             9\n",
       "4        4             9\n",
       "5        5             9\n",
       "6        6             9\n",
       "7        7             9\n",
       "8        8             9\n",
       "9        9             9"
      ]
     },
     "execution_count": 28,
     "metadata": {},
     "output_type": "execute_result"
    }
   ],
   "source": [
    "def _ratio_campo_all(universo, df_pageviews, df_adoption, mes_snapshot, campo):\n",
    "    pageviews_last_adoption_sum, pageviews_last_adoption_sum_tot, pageviews_last_month_sum, pageviews_last_adoption_sum_tot = _all_pageview_last_adoption_and_last_month(universo, df_pageviews, df_adoption, mes_snapshot, campo)\n",
    "\n",
    "    ratio_preferencia = _ratio_campo_df(pageviews_last_adoption_sum, pageviews_last_month_sum, 'ratio_adoption_preferencia')\n",
    "    ratio_interes = _ratio_campo_series(pageviews_last_adoption_sum_tot, pageviews_last_adoption_sum_tot, 'ratio_adoption_interes')\n",
    "\n",
    "    #df_union = pd.merge(universo, ratio_preferencia, how='left', left_on=['user_id'], right_on=['USER_ID'])\n",
    "    #df_union = pd.merge(df_union, ratio_interes, how='left', left_on=['user_id'], right_on=['user_id'])\n",
    "\n",
    "    return ratio_preferencia #df_union"
   ]
  },
  {
   "cell_type": "code",
   "execution_count": 27,
   "metadata": {},
   "outputs": [],
   "source": [
    "campo = 'PAGE'\n",
    "pepe = _ratio_campo_all(universo, df_pageviews, df_adoption, mes_snapshot, campo)\n",
    "pepe.head(10)"
   ]
  },
  {
   "cell_type": "code",
   "execution_count": null,
   "metadata": {},
   "outputs": [],
   "source": []
  },
  {
   "cell_type": "code",
   "execution_count": null,
   "metadata": {},
   "outputs": [],
   "source": []
  },
  {
   "cell_type": "code",
   "execution_count": null,
   "metadata": {},
   "outputs": [],
   "source": []
  },
  {
   "cell_type": "code",
   "execution_count": null,
   "metadata": {},
   "outputs": [],
   "source": []
  },
  {
   "cell_type": "code",
   "execution_count": null,
   "metadata": {},
   "outputs": [],
   "source": []
  },
  {
   "cell_type": "code",
   "execution_count": 22,
   "metadata": {},
   "outputs": [],
   "source": [
    "def ratio_page_all(universo, df_pageviews, df_adoption, mes_snapshot):\n",
    "    campo = 'PAGE'\n",
    "    return _ratio_campo_all(universo, df_pageviews, df_adoption, mes_snapshot, campo)"
   ]
  },
  {
   "cell_type": "code",
   "execution_count": null,
   "metadata": {},
   "outputs": [],
   "source": [
    "def ratio_ccategory_all(universo, df_pageviews, df_adoption, mes_snapshot):\n",
    "    campo = 'CONTENT_CATEGORY'\n",
    "    return _ratio_campo_all(universo, df_pageviews, df_adoption, mes_snapshot, campo)"
   ]
  },
  {
   "cell_type": "code",
   "execution_count": null,
   "metadata": {},
   "outputs": [],
   "source": [
    "def ratio_cctop_all(universo, df_pageviews, df_adoption, mes_snapshot):\n",
    "    campo = 'CONTENT_CATEGORY_TOP'\n",
    "    return _ratio_campo_all(universo, df_pageviews, df_adoption, mes_snapshot, campo)"
   ]
  },
  {
   "cell_type": "code",
   "execution_count": null,
   "metadata": {},
   "outputs": [],
   "source": [
    "def ratio_ccbottom_all(universo, df_pageviews, df_adoption, mes_snapshot):\n",
    "    campo = 'CONTENT_CATEGORY_BOTTOM'\n",
    "    return _ratio_campo_all(universo, df_pageviews, df_adoption, mes_snapshot, campo)"
   ]
  },
  {
   "cell_type": "code",
   "execution_count": null,
   "metadata": {},
   "outputs": [],
   "source": [
    "def ratio_site_id_all(universo, df_pageviews, df_adoption, mes_snapshot):\n",
    "    campo = 'SITE_ID'\n",
    "    return _ratio_campo_all(universo, df_pageviews, df_adoption, mes_snapshot, campo)"
   ]
  },
  {
   "cell_type": "code",
   "execution_count": null,
   "metadata": {},
   "outputs": [],
   "source": [
    "def ratio_mobile_device_all(universo, df_pageviews, df_adoption, mes_snapshot):\n",
    "    campo = 'IS_MOBILE_DEVICE'\n",
    "    return _ratio_campo_all(universo, df_pageviews, df_adoption, mes_snapshot, campo)"
   ]
  },
  {
   "cell_type": "code",
   "execution_count": null,
   "metadata": {},
   "outputs": [],
   "source": [
    "def ratio_connection_speed_all(universo, df_pageviews, df_adoption, mes_snapshot):\n",
    "    campo = 'CONNECTION_SPEED'\n",
    "    return _ratio_campo_all(universo, df_pageviews, df_adoption, mes_snapshot, campo)"
   ]
  }
 ],
 "metadata": {
  "kernelspec": {
   "display_name": "pythonenv",
   "language": "python",
   "name": "pythonenv"
  },
  "language_info": {
   "codemirror_mode": {
    "name": "ipython",
    "version": 3
   },
   "file_extension": ".py",
   "mimetype": "text/x-python",
   "name": "python",
   "nbconvert_exporter": "python",
   "pygments_lexer": "ipython3",
   "version": "3.7.2"
  }
 },
 "nbformat": 4,
 "nbformat_minor": 2
}
