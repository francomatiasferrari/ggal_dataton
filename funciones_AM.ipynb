{
 "cells": [
  {
   "cell_type": "code",
   "execution_count": null,
   "metadata": {},
   "outputs": [],
   "source": [
    "from datetime import date\n",
    "import calendar as c\n",
    "import pandas as pd\n",
    "import numpy as np"
   ]
  },
  {
   "cell_type": "code",
   "execution_count": null,
   "metadata": {},
   "outputs": [],
   "source": [
    "pd.set_option('display.max_rows', 500)\n",
    "pd.set_option('display.max_columns', 1500)\n",
    "pd.options.display.max_colwidth = 100000"
   ]
  },
  {
   "cell_type": "markdown",
   "metadata": {},
   "source": [
    "#### Para testear las funciones, levanto los dataframes originales"
   ]
  },
  {
   "cell_type": "code",
   "execution_count": null,
   "metadata": {},
   "outputs": [],
   "source": [
    "df_pageviews = pd.read_csv('data/pageviews.csv', parse_dates=['FEC_EVENT'])\n",
    "df_adoption = pd.read_csv(\"./data/conversiones.csv\")\n",
    "year = 2018\n",
    "mes_snapshot = 9\n",
    "\n",
    "def universo_train(df):\n",
    "    universo = pd.DataFrame()\n",
    "    universo['user_id'] = df.USER_ID.unique()\n",
    "    universo['snapshot_mes'] = mes_snapshot\n",
    "    return universo\n",
    "\n",
    "universo = universo_train(df_pageviews)"
   ]
  },
  {
   "cell_type": "code",
   "execution_count": null,
   "metadata": {},
   "outputs": [],
   "source": [
    "def _sum_campo_user(df_pageviews, campo):\n",
    "    temp = pd.crosstab(df_pageviews.user_id, df_pageviews[campo])\n",
    "    temp.columns = [campo + \"_\" + str(v) for v in temp.columns]\n",
    "    temp = temp.reset_index()\n",
    "    temp = _df_refactor(temp)\n",
    "    return temp"
   ]
  },
  {
   "cell_type": "code",
   "execution_count": null,
   "metadata": {},
   "outputs": [],
   "source": [
    "def _df_refactor(df_temp):\n",
    "    df_union = pd.merge(universo, df_temp, how='left', left_on=['user_id'], right_on=['user_id'])\n",
    "    df_union = df_union.drop(['snapshot_mes'], axis=1)\n",
    "    df_union = df_union.sort_values('user_id')\n",
    "    return df_union"
   ]
  },
  {
   "cell_type": "code",
   "execution_count": null,
   "metadata": {},
   "outputs": [],
   "source": [
    "def _sum_total_user(df_pageviews, campo):\n",
    "    temp = df_pageviews.groupby(\"user_id\")[campo].sum().to_frame().reset_index()\n",
    "    temp = _df_refactor(temp)\n",
    "#    temp = temp.drop(['user_id'], axis=1)\n",
    "    return temp"
   ]
  },
  {
   "cell_type": "code",
   "execution_count": null,
   "metadata": {},
   "outputs": [],
   "source": [
    "def _df_complete_columns(df_complete_original, df_incomplete):\n",
    "    df_complete = df_complete_original.copy()\n",
    "    df_complete[:] = 0\n",
    "    df = pd.DataFrame()\n",
    "    for a_column in df_complete:\n",
    "        if a_column in df_incomplete.columns:\n",
    "            df[a_column] = df_incomplete[a_column]\n",
    "        else:\n",
    "            df[a_column] = df_complete[a_column]\n",
    "    return df"
   ]
  },
  {
   "cell_type": "code",
   "execution_count": null,
   "metadata": {},
   "outputs": [],
   "source": [
    "def _df_repeat_columns(df_complete_original, df_incomplete):\n",
    "    users = df_complete_original['user_id']\n",
    "    df_complete = df_complete_original\n",
    "    df = df_incomplete[[df_incomplete.columns[1] for i in range(df_complete.shape[1]-1)]]\n",
    "    df['user_id'] = users\n",
    "    return df"
   ]
  },
  {
   "cell_type": "code",
   "execution_count": null,
   "metadata": {},
   "outputs": [],
   "source": [
    "def _universo_last_adoption_month(universo, df_adoption):\n",
    "    df_last_adoption = df_adoption.groupby('USER_ID')[('mes','anio')].max().reset_index()\n",
    "    return df_last_adoption"
   ]
  },
  {
   "cell_type": "code",
   "execution_count": null,
   "metadata": {},
   "outputs": [],
   "source": [
    "def _get_valid_pageviews_last_adoption(universo, df_pageviews, df_adoption):\n",
    "    df_last_adoption = _universo_last_adoption_month(universo, df_adoption)\n",
    "    df_last_adoption_page = pd.merge(df_last_adoption, df_pageviews, how='left', left_on=['USER_ID'], right_on=['USER_ID'])\n",
    "\n",
    "    df_last_adoption_page['last_adoption_month'] = pd.to_datetime(dict(year=df_last_adoption_page.anio, month=df_last_adoption_page.mes, day=1))\n",
    "    df_last_adoption_page['valid_data_from'] = df_last_adoption_page.last_adoption_month + pd.DateOffset(months=-1)\n",
    "    df_last_adoption_page['valid_data_to'] = df_last_adoption_page.last_adoption_month\n",
    "    \n",
    "    df_last_adoption_page = df_last_adoption_page[df_last_adoption_page['FEC_EVENT'] >= df_last_adoption_page['valid_data_from']]\n",
    "    df_last_adoption_page = df_last_adoption_page[df_last_adoption_page['FEC_EVENT'] < df_last_adoption_page['valid_data_to']]\n",
    "    \n",
    "    df_last_adoption_page = df_last_adoption_page.drop(['last_adoption_month'], axis=1)\n",
    "    df_last_adoption_page = df_last_adoption_page.drop(['valid_data_from'], axis=1)\n",
    "    df_last_adoption_page = df_last_adoption_page.drop(['valid_data_to'], axis=1)\n",
    "    df_last_adoption_page = df_last_adoption_page.drop(['FEC_EVENT'], axis=1)\n",
    "    df_last_adoption_page = df_last_adoption_page.drop(['anio'], axis=1)\n",
    "    df_last_adoption_page = df_last_adoption_page.drop(['mes'], axis=1)\n",
    "    df_last_adoption_page = df_last_adoption_page.rename(columns={\"USER_ID\": \"user_id\"})\n",
    "\n",
    "    return df_last_adoption_page"
   ]
  },
  {
   "cell_type": "code",
   "execution_count": null,
   "metadata": {},
   "outputs": [],
   "source": [
    "def _get_valid_pageviews_last_month(universo, df_pageviews, mes_snapshot):\n",
    "    df_last_month = pd.merge(universo, df_pageviews, how='left', left_on=['user_id'], right_on=['USER_ID'])\n",
    "    \n",
    "    df_last_month['valid_data_to'] = pd.to_datetime(dict(year=year, month=df_last_month.snapshot_mes, day=1))\n",
    "    df_last_month['valid_data_from'] = df_last_month.valid_data_to + pd.DateOffset(months=-1)\n",
    "    \n",
    "    df_last_month = df_last_month[df_last_month['FEC_EVENT'] >= df_last_month['valid_data_from']]\n",
    "    df_last_month = df_last_month[df_last_month['FEC_EVENT'] < df_last_month['valid_data_to']]\n",
    "\n",
    "    \n",
    "    return df_last_month"
   ]
  },
  {
   "cell_type": "code",
   "execution_count": null,
   "metadata": {},
   "outputs": [],
   "source": [
    "def _all_pageview_last_adoption_and_last_month(universo, df_pageviews, df_adoption, mes_snapshot, campo):\n",
    "    pageviews_last_adoption = _get_valid_pageviews_last_adoption(universo, df_pageviews, df_adoption)\n",
    "    pageviews_last_adoption_sum = _sum_campo_user(pageviews_last_adoption, campo)\n",
    "    pageviews_last_adoption_sum_tot = _sum_total_user(pageviews_last_adoption, campo)\n",
    "    \n",
    "    pageviews_last_month = _get_valid_pageviews_last_month(universo, df_pageviews, mes_snapshot)\n",
    "    pageviews_last_month_sum = _sum_campo_user(pageviews_last_month, campo)\n",
    "    pageviews_last_month_sum_tot = _sum_total_user(pageviews_last_month, campo)\n",
    "    \n",
    "    return pageviews_last_adoption_sum, pageviews_last_adoption_sum_tot, pageviews_last_month_sum, pageviews_last_month_sum_tot\n"
   ]
  },
  {
   "cell_type": "code",
   "execution_count": null,
   "metadata": {},
   "outputs": [],
   "source": [
    "def _ratio_campo_df(df_numerador, df_denominador, name):\n",
    "    #Eliminar columnar user_id para que no la divida\n",
    "    users = df_numerador['user_id']\n",
    "    df_numerador = df_numerador.drop(['user_id'], axis = 1)\n",
    "    df_denominador = df_denominador.drop(['user_id'], axis = 1)\n",
    "    \n",
    "    #División element-wise\n",
    "    temp = df_numerador.div(df_denominador, axis=0, fill_value = 0)\n",
    "    temp.columns = [name + \"_\" + str(v) for v in temp.columns]\n",
    "\n",
    "    #Agrega columna user_id\n",
    "    temp['user_id'] = users\n",
    "\n",
    "    #Completa Nan\n",
    "    temp = temp.fillna(-999)\n",
    "    return temp"
   ]
  },
  {
   "cell_type": "code",
   "execution_count": null,
   "metadata": {},
   "outputs": [],
   "source": [
    "def _ratio_campo_all(universo, df_pageviews, df_adoption, mes_snapshot, campo):\n",
    "    pageviews_last_adoption_sum, pageviews_last_adoption_sum_tot, pageviews_last_month_sum, pageviews_last_month_sum_tot = _all_pageview_last_adoption_and_last_month(universo, df_pageviews, df_adoption, mes_snapshot, campo)\n",
    "    \n",
    "    ratio_preferencia = _ratio_campo_df(pageviews_last_adoption_sum, pageviews_last_month_sum, 'ratio_adoption_preferencia')\n",
    "    ratio_interes = _ratio_campo_df(pageviews_last_adoption_sum_tot, pageviews_last_month_sum_tot, 'ratio_adoption_interes')\n",
    "\n",
    "    df_union = pd.merge(universo, ratio_preferencia, how='left', left_on=['user_id'], right_on=['user_id'])\n",
    "    df_union = pd.merge(df_union, ratio_interes, how='left', left_on=['user_id'], right_on=['user_id'])\n",
    "\n",
    "    return df_union\n"
   ]
  },
  {
   "cell_type": "code",
   "execution_count": null,
   "metadata": {},
   "outputs": [],
   "source": [
    "def ratio_adoption_page_all(universo, df_pageviews, df_adoption, mes_snapshot):\n",
    "    campo = 'PAGE'\n",
    "    return _ratio_campo_all(universo, df_pageviews, df_adoption, mes_snapshot, campo)"
   ]
  },
  {
   "cell_type": "code",
   "execution_count": null,
   "metadata": {},
   "outputs": [],
   "source": [
    "def ratio_adoption_ccategory_all(universo, df_pageviews, df_adoption, mes_snapshot):\n",
    "    campo = 'CONTENT_CATEGORY'\n",
    "    return _ratio_campo_all(universo, df_pageviews, df_adoption, mes_snapshot, campo)"
   ]
  },
  {
   "cell_type": "code",
   "execution_count": null,
   "metadata": {},
   "outputs": [],
   "source": [
    "def ratio_adoption_cctop_all(universo, df_pageviews, df_adoption, mes_snapshot):\n",
    "    campo = 'CONTENT_CATEGORY_TOP'\n",
    "    return _ratio_campo_all(universo, df_pageviews, df_adoption, mes_snapshot, campo)"
   ]
  },
  {
   "cell_type": "code",
   "execution_count": null,
   "metadata": {},
   "outputs": [],
   "source": [
    "def ratio_adoption_ccbottom_all(universo, df_pageviews, df_adoption, mes_snapshot):\n",
    "    campo = 'CONTENT_CATEGORY_BOTTOM'\n",
    "    return _ratio_campo_all(universo, df_pageviews, df_adoption, mes_snapshot, campo)"
   ]
  },
  {
   "cell_type": "code",
   "execution_count": null,
   "metadata": {},
   "outputs": [],
   "source": [
    "def ratio_adoption_site_id_all(universo, df_pageviews, df_adoption, mes_snapshot):\n",
    "    campo = 'SITE_ID'\n",
    "    return _ratio_campo_all(universo, df_pageviews, df_adoption, mes_snapshot, campo)"
   ]
  },
  {
   "cell_type": "code",
   "execution_count": null,
   "metadata": {},
   "outputs": [],
   "source": [
    "def ratio_adoption_mobile_device_all(universo, df_devicedata, df_adoption, mes_snapshot):\n",
    "    campo = 'IS_MOBILE_DEVICE'\n",
    "    return _ratio_campo_all(universo, df_devicedata, df_adoption, mes_snapshot, campo)"
   ]
  },
  {
   "cell_type": "code",
   "execution_count": null,
   "metadata": {},
   "outputs": [],
   "source": [
    "def ratio_adoption_connection_speed_all(universo, df_devicedata, df_adoption, mes_snapshot):\n",
    "    campo = 'CONNECTION_SPEED'\n",
    "    return _ratio_campo_all(universo, df_devicedata, df_adoption, mes_snapshot, campo)"
   ]
  },
  {
   "cell_type": "code",
   "execution_count": null,
   "metadata": {},
   "outputs": [],
   "source": [
    "def ratio_adoption_on_site_search_term_all(universo, df_devicedata, df_adoption, mes_snapshot):\n",
    "    campo = 'ON_SITE_SEARCH_TERM'\n",
    "    return _ratio_campo_all(universo, df_devicedata, mes_snapshot, campo)"
   ]
  }
 ],
 "metadata": {
  "kernelspec": {
   "display_name": "pythonenv",
   "language": "python",
   "name": "pythonenv"
  },
  "language_info": {
   "codemirror_mode": {
    "name": "ipython",
    "version": 3
   },
   "file_extension": ".py",
   "mimetype": "text/x-python",
   "name": "python",
   "nbconvert_exporter": "python",
   "pygments_lexer": "ipython3",
   "version": "3.7.2"
  }
 },
 "nbformat": 4,
 "nbformat_minor": 2
}
