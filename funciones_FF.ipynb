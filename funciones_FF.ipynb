{
 "cells": [
  {
   "cell_type": "markdown",
   "metadata": {},
   "source": [
    "# Features"
   ]
  },
  {
   "cell_type": "code",
   "execution_count": null,
   "metadata": {},
   "outputs": [],
   "source": [
    "from datetime import datetime, date, time, timedelta"
   ]
  },
  {
   "cell_type": "markdown",
   "metadata": {},
   "source": [
    "<h6>Momentos del dia</h6>"
   ]
  },
  {
   "cell_type": "markdown",
   "metadata": {},
   "source": [
    "Devuelve el ratio de los momentos del dia en la ultima semana.\n",
    "Ademas, devuelve: - La ultima fecha registrada, la ultima fecha registrada - 7 dias, la cantidad total de visitas en esa semana y la cantidad total de visitas ever."
   ]
  },
  {
   "cell_type": "code",
   "execution_count": null,
   "metadata": {},
   "outputs": [],
   "source": [
    "def feature_RatioDayMoments(df):\n",
    "    #Me quedo con fechas maximas y minimas de cada user\n",
    "    temp = df_pageviews\n",
    "    temp2 = df_pageviews.groupby(['USER_ID']).agg({\"FEC_EVENT\": [max, \"count\"]})\n",
    "    temp2.columns = ['FEC_EVENT','CANT_TOTAL_EVER']\n",
    "    temp2.reset_index(inplace=True) #Reseteo el indice por lo anterior\n",
    "\n",
    "    #Left join con mi df temporal\n",
    "    temp = pd.merge(temp, temp2, how='left', left_on=['USER_ID'], right_on=['USER_ID'], suffixes=('', '_MAX')) #Agrego fecha max\n",
    "    temp['FEC_EVENT_MENOS_7D'] = temp.FEC_EVENT_MAX - timedelta(days=7) #Agrego fecha min, que seria 7 dias menos\n",
    "    temp = temp[(temp.FEC_EVENT >= temp.FEC_EVENT_MENOS_7D) & (temp.FEC_EVENT <= temp.FEC_EVENT_MAX)] #filtro y me quedo con la info que me interesa\n",
    "\n",
    "    # Me calculo la cant total de visitas de los ultimos 7 dias\n",
    "    temp3 = temp.groupby(['USER_ID'])['FEC_EVENT'].count() # Traigo la cant total de la semana\n",
    "    temp3 = temp3.to_frame() #lo paso a dataframe (proque la anterior devuelve una serie)\n",
    "    temp3.columns = ['CANT_TOTAL_ULT_7D']\n",
    "    temp3.reset_index(inplace=True)\n",
    "    temp = pd.merge(temp, temp3, how='left', left_on=['USER_ID'], right_on=['USER_ID'])\n",
    "\n",
    "    #Corto el dia en 4 partes    \n",
    "    temp.loc[(temp['FEC_EVENT'].dt.hour >= 18), 'MOMENTO_DIA'] = 4\n",
    "    temp.loc[(temp['FEC_EVENT'].dt.hour >= 12) & (temp['FEC_EVENT'].dt.hour <18), 'MOMENTO_DIA'] = 3\n",
    "    temp.loc[(temp['FEC_EVENT'].dt.hour >= 6) & (temp['FEC_EVENT'].dt.hour <12), 'MOMENTO_DIA'] = 2\n",
    "    temp.loc[(temp['FEC_EVENT'].dt.hour >= 0) & (temp['FEC_EVENT'].dt.hour <6), 'MOMENTO_DIA'] = 1\n",
    "\n",
    "    #Calculo los ratios en el momento del dia\n",
    "    temp4 = pd.crosstab(temp.USER_ID, temp.MOMENTO_DIA) # * Realizamos una tabla cruzada de la Variable por Usuario colocando la frecuencia de cada valor posible como columna \n",
    "    temp4.columns = ['RATIO_VISITA_MADRUGADA','RATIO_VISITA_MANANA','RATIO_VISITA_TARDE','RATIO_VISITA_NOCHE'] \n",
    "    temp4 = temp4.apply(lambda x: x / x.sum(), axis=1)\n",
    "    temp4.reset_index(inplace=True)\n",
    "    temp = pd.merge(temp, temp4, how='left', left_on=['USER_ID'], right_on=['USER_ID'])\n",
    "\n",
    "    #Preparo las columnas que voy a agregar al df y se las agrego\n",
    "    temp = temp[['USER_ID','FEC_EVENT_MAX','CANT_TOTAL_EVER','CANT_TOTAL_ULT_7D','FEC_EVENT_MENOS_7D','RATIO_VISITA_MADRUGADA','RATIO_VISITA_MANANA','RATIO_VISITA_TARDE','RATIO_VISITA_NOCHE']]\n",
    "    temp = temp.drop_duplicates()\n",
    "    df = pd.merge(df, temp, how='left', left_on=['user_id'], right_on=['USER_ID'])\n",
    "    df = df.drop(['USER_ID'], axis = 1)\n",
    "    \n",
    "    return df"
   ]
  }
 ],
 "metadata": {
  "kernelspec": {
   "display_name": "Python 3",
   "language": "python",
   "name": "python3"
  },
  "language_info": {
   "codemirror_mode": {
    "name": "ipython",
    "version": 3
   },
   "file_extension": ".py",
   "mimetype": "text/x-python",
   "name": "python",
   "nbconvert_exporter": "python",
   "pygments_lexer": "ipython3",
   "version": "3.6.8"
  }
 },
 "nbformat": 4,
 "nbformat_minor": 2
}
