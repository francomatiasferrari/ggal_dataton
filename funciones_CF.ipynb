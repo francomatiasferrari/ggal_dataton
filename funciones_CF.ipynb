{
 "cells": [
  {
   "cell_type": "markdown",
   "metadata": {},
   "source": [
    "# Features"
   ]
  },
  {
   "cell_type": "code",
   "execution_count": 1,
   "metadata": {},
   "outputs": [],
   "source": [
    "import pandas as pd\n",
    "import numpy as np"
   ]
  },
  {
   "cell_type": "markdown",
   "metadata": {},
   "source": [
    "Metodo que calcula la cantidad de adopciones que tuvo cada cliente por las siguientes ventanas temporales:\n",
    " - ultimo mes (qty_1)\n",
    " - ultimos tres meses (qty_3)\n",
    " - ultimos seis meses (qty_6)\n",
    " - ultimos nueve meses (qty_9)"
   ]
  },
  {
   "cell_type": "code",
   "execution_count": 2,
   "metadata": {},
   "outputs": [],
   "source": [
    "def qty_adoptions(universo, df_conversiones):\n",
    "    mes_snapshot = universo['snapshot_mes'][0]\n",
    "    df_conversiones = df_conversiones[df_conversiones['mes'] <= mes_snapshot]\n",
    "    df_conversiones = df_conversiones[df_conversiones['mes'] > mes_snapshot - 9]\n",
    "    df_conversiones = df_conversiones.astype({'mes': 'int32', 'USER_ID': 'int64'})\n",
    "\n",
    "    qty_1 = [mes_snapshot]\n",
    "    qty_3 = [mes_snapshot, mes_snapshot-1, mes_snapshot-2]\n",
    "    qty_6 = [mes_snapshot, mes_snapshot-1, mes_snapshot-2]\n",
    "    qty_6 = [mes_snapshot, mes_snapshot-1, mes_snapshot-2, mes_snapshot-3, mes_snapshot-4, mes_snapshot-5]\n",
    "    \n",
    "    df_qty_1 = df_conversiones[df_conversiones['mes'].isin(qty_1)].groupby(['USER_ID']).count()\n",
    "    df_qty_1.drop(['anio'], axis='columns', inplace=True)\n",
    "    df_qty_3 = df_conversiones[df_conversiones['mes'].isin(qty_3)].groupby(['USER_ID']).count()\n",
    "    df_qty_3.drop(['anio'], axis='columns', inplace=True)\n",
    "    df_qty_6 = df_conversiones[df_conversiones['mes'].isin(qty_6)].groupby(['USER_ID']).count()\n",
    "    df_qty_6.drop(['anio'], axis='columns', inplace=True)\n",
    "    df_qty_9 = df_conversiones.groupby(['USER_ID']).count()\n",
    "    df_qty_9.drop(['anio'], axis='columns', inplace=True)\n",
    "\n",
    "    universo = pd.merge(universo, df_qty_1, how='left', left_on=['user_id'], right_on=['USER_ID'])\n",
    "    universo.rename(columns={'mes': 'qty_1'}, inplace=True)\n",
    "    \n",
    "    universo = pd.merge(universo, df_qty_3, how='left', left_on=['user_id'], right_on=['USER_ID'])\n",
    "    universo.rename(columns={'mes': 'qty_3'}, inplace=True)\n",
    "    \n",
    "    universo = pd.merge(universo, df_qty_6, how='left', left_on=['user_id'], right_on=['USER_ID'])\n",
    "    universo.rename(columns={'mes': 'qty_6'}, inplace=True)\n",
    "    \n",
    "    universo = pd.merge(universo, df_qty_9, how='left', left_on=['user_id'], right_on=['USER_ID'])\n",
    "    universo.rename(columns={'mes': 'qty_9'}, inplace=True)\n",
    "    \n",
    "    universo = universo.fillna(0)\n",
    "    return universo"
   ]
  },
  {
   "cell_type": "code",
   "execution_count": null,
   "metadata": {},
   "outputs": [],
   "source": []
  }
 ],
 "metadata": {
  "kernelspec": {
   "display_name": "Python 3",
   "language": "python",
   "name": "python3"
  },
  "language_info": {
   "codemirror_mode": {
    "name": "ipython",
    "version": 3
   },
   "file_extension": ".py",
   "mimetype": "text/x-python",
   "name": "python",
   "nbconvert_exporter": "python",
   "pygments_lexer": "ipython3",
   "version": "3.7.3"
  }
 },
 "nbformat": 4,
 "nbformat_minor": 2
}
