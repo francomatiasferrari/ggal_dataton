{
 "cells": [
  {
   "cell_type": "markdown",
   "metadata": {},
   "source": [
    "# Features generation"
   ]
  },
  {
   "cell_type": "markdown",
   "metadata": {},
   "source": [
    "## Packages importing"
   ]
  },
  {
   "cell_type": "code",
   "execution_count": 1,
   "metadata": {},
   "outputs": [],
   "source": [
    "import pandas as pd\n",
    "import numpy as np\n",
    "import time\n",
    "import datetime\n",
    "import calendar"
   ]
  },
  {
   "cell_type": "markdown",
   "metadata": {},
   "source": [
    "## Original dataframes loading to test"
   ]
  },
  {
   "cell_type": "code",
   "execution_count": 2,
   "metadata": {},
   "outputs": [],
   "source": [
    "df_pageviews = pd.read_csv('data/pageviews.csv', parse_dates=['FEC_EVENT'])\n",
    "df_devicedata = pd.read_csv(\"./data/device_data.csv\", parse_dates=[\"FEC_EVENT\"])\n",
    "year = 2018\n",
    "mes_snapshot = 9\n",
    "\n",
    "def universo_train(df):\n",
    "    universo = pd.DataFrame()\n",
    "    universo['user_id'] = df.USER_ID.unique()\n",
    "    universo['snapshot_mes'] = mes_snapshot\n",
    "    return universo\n",
    "\n",
    "universo = universo_train(df_pageviews)"
   ]
  },
  {
   "cell_type": "code",
   "execution_count": 3,
   "metadata": {},
   "outputs": [],
   "source": [
    "df_conversiones = pd.read_csv(\"./data/conversiones.csv\").drop_duplicates().reset_index(drop=True)"
   ]
  },
  {
   "cell_type": "markdown",
   "metadata": {},
   "source": [
    "## Features generation per se"
   ]
  },
  {
   "cell_type": "markdown",
   "metadata": {},
   "source": [
    "Metodo que calcula la cantidad de adopciones que tuvo cada cliente por las siguientes ventanas temporales:\n",
    " - ultimo mes (qty_1)\n",
    " - ultimos tres meses (qty_3)\n",
    " - ultimos seis meses (qty_6)\n",
    " - ultimos nueve meses (qty_9)"
   ]
  },
  {
   "cell_type": "code",
   "execution_count": 4,
   "metadata": {},
   "outputs": [],
   "source": [
    "def qty_adoptions(universo, df_conversiones):\n",
    "    mes_snapshot = universo['snapshot_mes'][0]\n",
    "    df_conversiones = df_conversiones[df_conversiones['mes'] <= mes_snapshot]\n",
    "    df_conversiones = df_conversiones[df_conversiones['mes'] > mes_snapshot - 9]\n",
    "    df_conversiones = df_conversiones.astype({'mes': 'int32', 'USER_ID': 'int64'})\n",
    "\n",
    "    qty_1 = [mes_snapshot]\n",
    "    qty_3 = [mes_snapshot, mes_snapshot-1, mes_snapshot-2]\n",
    "    qty_6 = [mes_snapshot, mes_snapshot-1, mes_snapshot-2]\n",
    "    qty_6 = [mes_snapshot, mes_snapshot-1, mes_snapshot-2, mes_snapshot-3, mes_snapshot-4, mes_snapshot-5]\n",
    "    \n",
    "    df_qty_1 = df_conversiones[df_conversiones['mes'].isin(qty_1)].groupby(['USER_ID']).count()\n",
    "    df_qty_1.drop(['anio'], axis='columns', inplace=True)\n",
    "    df_qty_3 = df_conversiones[df_conversiones['mes'].isin(qty_3)].groupby(['USER_ID']).count()\n",
    "    df_qty_3.drop(['anio'], axis='columns', inplace=True)\n",
    "    df_qty_6 = df_conversiones[df_conversiones['mes'].isin(qty_6)].groupby(['USER_ID']).count()\n",
    "    df_qty_6.drop(['anio'], axis='columns', inplace=True)\n",
    "    df_qty_9 = df_conversiones.groupby(['USER_ID']).count()\n",
    "    df_qty_9.drop(['anio'], axis='columns', inplace=True)\n",
    "\n",
    "    universo = pd.merge(universo, df_qty_1, how='left', left_on=['user_id'], right_on=['USER_ID'])\n",
    "    universo.rename(columns={'mes': 'qty_adopciones_1M'}, inplace=True)\n",
    "    \n",
    "    universo = pd.merge(universo, df_qty_3, how='left', left_on=['user_id'], right_on=['USER_ID'])\n",
    "    universo.rename(columns={'mes': 'qty_adopciones_3M'}, inplace=True)\n",
    "    \n",
    "    universo = pd.merge(universo, df_qty_6, how='left', left_on=['user_id'], right_on=['USER_ID'])\n",
    "    universo.rename(columns={'mes': 'qty_adopciones_6M'}, inplace=True)\n",
    "    \n",
    "    universo = pd.merge(universo, df_qty_9, how='left', left_on=['user_id'], right_on=['USER_ID'])\n",
    "    universo.rename(columns={'mes': 'qty_adopciones_9M'}, inplace=True)\n",
    "    \n",
    "    universo = universo.fillna(0)\n",
    "    return universo"
   ]
  },
  {
   "cell_type": "markdown",
   "metadata": {},
   "source": [
    "Metodo que calcula la cantidad de dias desde la ultima adopcion\n",
    "\n",
    "Ojo! Las adopciones las tenemos a nivel mes, por lo que se tomo el dia de cierre de dicho mes"
   ]
  },
  {
   "cell_type": "code",
   "execution_count": 5,
   "metadata": {},
   "outputs": [],
   "source": [
    "def qty_days_last_adoption(universo, df_conversiones):\n",
    "    # today = datetime.datetime.today() # should today be first day of incoming month?\n",
    "    today = datetime.datetime(year=year, month=mes_snapshot+1, day=1)\n",
    "    \n",
    "    df_conversiones = df_conversiones[df_conversiones['mes'] <= mes_snapshot]\n",
    "    df_conversiones = df_conversiones[df_conversiones['mes'] > mes_snapshot - 9]\n",
    "    df_conversiones = df_conversiones.astype({'mes': 'int32', 'anio': 'int32', 'USER_ID': 'int64'})\n",
    "\n",
    "    df_conversiones['date'] = df_conversiones.apply(lambda row: \n",
    "                                                    datetime.datetime(year=row['anio'], \n",
    "                                                                      month=row['mes'], \n",
    "                                                                      day=calendar.monthrange(row['anio'], row['mes'])[1]),\n",
    "                                                   axis=1)\n",
    "    df_conversiones = df_conversiones.groupby(['USER_ID']).max().reset_index()\n",
    "    df_conversiones['qty_dias_ultima_adopcion'] = df_conversiones.apply(lambda row: ((today - row['date']).days), axis=1)\n",
    "    df_conversiones.drop(['date'], axis='columns', inplace=True)\n",
    "    \n",
    "    universo = pd.merge(universo, df_conversiones, how='left', left_on=['user_id'], right_on=['USER_ID'])\n",
    "    universo = universo.fillna(0)\n",
    "    return universo"
   ]
  },
  {
   "cell_type": "markdown",
   "metadata": {},
   "source": [
    "Metodo que calcula la cantidad de dias desde la ultima visita.\n",
    "Los NaNs se fillean en cero."
   ]
  },
  {
   "cell_type": "code",
   "execution_count": 6,
   "metadata": {},
   "outputs": [],
   "source": [
    "def qty_days_last_visit(universo, df_pageviews):\n",
    "    today = datetime.datetime(year=year, month=mes_snapshot+1, day=1)\n",
    "    \n",
    "    df_pageviews['mes'] = pd.DatetimeIndex(df_pageviews['FEC_EVENT']).month\n",
    "    df_pageviews = df_pageviews[df_pageviews.mes <= mes_snapshot]\n",
    "    df_pageviews = df_pageviews[df_pageviews.mes > mes_snapshot - 9]\n",
    "    \n",
    "    df_ = df_pageviews.groupby(['USER_ID']).max()\n",
    "    df_.drop(df_.columns.difference(['USER_ID', 'FEC_EVENT']), axis=1, inplace=True)\n",
    "    df_['qty_dias_ultimo_page_ingreso'] = df_.apply(lambda row: (today - row['FEC_EVENT']).days, axis=1)\n",
    "    df_.drop(['FEC_EVENT'], axis='columns', inplace=True)\n",
    "\n",
    "    universo = pd.merge(universo, df_, how='left', left_on=['user_id'], right_on=['USER_ID'])\n",
    "    universo = universo.fillna(0)\n",
    "    return universo"
   ]
  },
  {
   "cell_type": "code",
   "execution_count": 7,
   "metadata": {},
   "outputs": [],
   "source": [
    "# this function should not go since it'd include the cases when adoption is nans (replaced by zero)\n",
    "\n",
    "# def qty_days_last_visit_vs_adoption_bis(universo, df_pageviews, df_conversiones):\n",
    "#     universo = qty_days_last_adoption(universo, df_conversiones)\n",
    "#     universo = qty_days_last_visit(universo, df_pageviews)\n",
    "#     universo['qty_days_last_visit_vs_adoption'] = universo.apply(lambda row: abs(row['qty_days_last_adoption'] - row['qty_days_last_visit']), axis=1)\n",
    "    \n",
    "#     return universo"
   ]
  },
  {
   "cell_type": "markdown",
   "metadata": {},
   "source": [
    "Metodo que calcula la cantidad de dias entre la ultima adopcion y la ultima visita. Se toma la diferencia a valor absoluto.\n",
    "\n",
    "Los NaNs se fillean en cero."
   ]
  },
  {
   "cell_type": "code",
   "execution_count": 8,
   "metadata": {},
   "outputs": [],
   "source": [
    "def qty_days_last_visit_vs_adoption(universo, df_pageviews, df_conversiones):\n",
    "    df_pageviews['mes'] = pd.DatetimeIndex(df_pageviews['FEC_EVENT']).month\n",
    "    df_pageviews = df_pageviews[df_pageviews.mes <= mes_snapshot]\n",
    "    df_pageviews = df_pageviews[df_pageviews.mes > mes_snapshot - 9]\n",
    "    df_ = df_pageviews.groupby(['USER_ID']).max()\n",
    "    df_.drop(df_.columns.difference(['USER_ID', 'FEC_EVENT']), axis=1, inplace=True)\n",
    "\n",
    "    df_conversiones = df_conversiones[df_conversiones['mes'] <= mes_snapshot]\n",
    "    df_conversiones = df_conversiones[df_conversiones['mes'] > mes_snapshot - 9]\n",
    "    df_conversiones = df_conversiones.astype({'mes': 'int32', 'anio': 'int32', 'USER_ID': 'int64'})\n",
    "    df_conversiones['date'] = df_conversiones.apply(lambda row: \n",
    "                                                    datetime.datetime(year=row['anio'], \n",
    "                                                                      month=row['mes'], \n",
    "                                                                      day=calendar.monthrange(row['anio'], row['mes'])[1]),\n",
    "                                                   axis=1)\n",
    "    df_conversiones = df_conversiones.groupby(['USER_ID']).max().reset_index()\n",
    "\n",
    "    df_conversiones = pd.merge(df_conversiones, df_, how='left', on=['USER_ID'])\n",
    "    df_conversiones['qty_días_adoption_ultimo_page_ingreso'] = df_conversiones.apply(lambda row: abs((row['date'] - row['FEC_EVENT']).days), axis=1)\n",
    "    df_conversiones.drop(['FEC_EVENT', 'date', 'mes', 'anio'], axis='columns', inplace=True)\n",
    "\n",
    "    universo = pd.merge(universo, df_conversiones, how='left', left_on=['user_id'], right_on=['USER_ID'])\n",
    "    universo.drop(['USER_ID'], axis='columns', inplace=True)\n",
    "    universo = universo.fillna(0)\n",
    "    return universo"
   ]
  },
  {
   "cell_type": "code",
   "execution_count": null,
   "metadata": {},
   "outputs": [],
   "source": []
  }
 ],
 "metadata": {
  "kernelspec": {
   "display_name": "Python 3",
   "language": "python",
   "name": "python3"
  },
  "language_info": {
   "codemirror_mode": {
    "name": "ipython",
    "version": 3
   },
   "file_extension": ".py",
   "mimetype": "text/x-python",
   "name": "python",
   "nbconvert_exporter": "python",
   "pygments_lexer": "ipython3",
   "version": "3.7.3"
  }
 },
 "nbformat": 4,
 "nbformat_minor": 2
}
