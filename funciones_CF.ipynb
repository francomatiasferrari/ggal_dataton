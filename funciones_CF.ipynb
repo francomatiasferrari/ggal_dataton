{
 "cells": [
  {
   "cell_type": "markdown",
   "metadata": {},
   "source": [
    "# Features generation"
   ]
  },
  {
   "cell_type": "markdown",
   "metadata": {},
   "source": [
    "## Packages importing"
   ]
  },
  {
   "cell_type": "code",
   "execution_count": 1,
   "metadata": {},
   "outputs": [],
   "source": [
    "import pandas as pd\n",
    "import numpy as np\n",
    "import time\n",
    "import datetime\n",
    "import calendar"
   ]
  },
  {
   "cell_type": "markdown",
   "metadata": {},
   "source": [
    "## Original dataframes loading to test"
   ]
  },
  {
   "cell_type": "code",
   "execution_count": 2,
   "metadata": {},
   "outputs": [],
   "source": [
    "df_pageviews = pd.read_csv('data/pageviews.csv', parse_dates=['FEC_EVENT'])\n",
    "df_devicedata = pd.read_csv(\"./data/device_data.csv\", parse_dates=[\"FEC_EVENT\"])\n",
    "year = 2018\n",
    "mes_snapshot = 9\n",
    "\n",
    "def universo_train(df):\n",
    "    universo = pd.DataFrame()\n",
    "    universo['user_id'] = df.USER_ID.unique()\n",
    "    universo['snapshot_mes'] = mes_snapshot\n",
    "    return universo\n",
    "\n",
    "universo = universo_train(df_pageviews)"
   ]
  },
  {
   "cell_type": "code",
   "execution_count": 3,
   "metadata": {},
   "outputs": [],
   "source": [
    "df_conversiones = pd.read_csv(\"./data/conversiones.csv\").drop_duplicates().reset_index(drop=True)"
   ]
  },
  {
   "cell_type": "markdown",
   "metadata": {},
   "source": [
    "## Features generation per se"
   ]
  },
  {
   "cell_type": "markdown",
   "metadata": {},
   "source": [
    "Metodo que calcula la cantidad de adopciones que tuvo cada cliente por las siguientes ventanas temporales:\n",
    " - ultimo mes (qty_adopciones_1M)\n",
    " - ultimos tres meses (qty_adopciones_3M)\n",
    " - ultimos seis meses (qty_adopciones_6M)\n",
    " - ultimos nueve meses (qty_adopciones_9M)"
   ]
  },
  {
   "cell_type": "code",
   "execution_count": 4,
   "metadata": {},
   "outputs": [],
   "source": [
    "def qty_adoptions(universo, df_conversiones):\n",
    "    mes_snapshot = universo['snapshot_mes'][0]\n",
    "    df_conversiones = df_conversiones[df_conversiones['mes'] <= mes_snapshot]\n",
    "    df_conversiones = df_conversiones[df_conversiones['mes'] > mes_snapshot - 9]\n",
    "    df_conversiones = df_conversiones.astype({'mes': 'int32', 'USER_ID': 'int64'})\n",
    "\n",
    "    qty_1 = [mes_snapshot]\n",
    "    qty_3 = [mes_snapshot, mes_snapshot-1, mes_snapshot-2]\n",
    "    qty_6 = [mes_snapshot, mes_snapshot-1, mes_snapshot-2, mes_snapshot-3, mes_snapshot-4, mes_snapshot-5]\n",
    "    \n",
    "    df_qty_1 = df_conversiones[df_conversiones['mes'].isin(qty_1)].groupby(['USER_ID']).count()\n",
    "    df_qty_1.drop(['anio'], axis='columns', inplace=True)\n",
    "    df_qty_3 = df_conversiones[df_conversiones['mes'].isin(qty_3)].groupby(['USER_ID']).count()\n",
    "    df_qty_3.drop(['anio'], axis='columns', inplace=True)\n",
    "    df_qty_6 = df_conversiones[df_conversiones['mes'].isin(qty_6)].groupby(['USER_ID']).count()\n",
    "    df_qty_6.drop(['anio'], axis='columns', inplace=True)\n",
    "    df_qty_9 = df_conversiones.groupby(['USER_ID']).count()\n",
    "    df_qty_9.drop(['anio'], axis='columns', inplace=True)\n",
    "\n",
    "    universo = pd.merge(universo, df_qty_1, how='left', left_on=['user_id'], right_on=['USER_ID'])\n",
    "    universo.rename(columns={'mes': 'qty_adopciones_1M'}, inplace=True)\n",
    "    \n",
    "    universo = pd.merge(universo, df_qty_3, how='left', left_on=['user_id'], right_on=['USER_ID'])\n",
    "    universo.rename(columns={'mes': 'qty_adopciones_3M'}, inplace=True)\n",
    "    \n",
    "    universo = pd.merge(universo, df_qty_6, how='left', left_on=['user_id'], right_on=['USER_ID'])\n",
    "    universo.rename(columns={'mes': 'qty_adopciones_6M'}, inplace=True)\n",
    "    \n",
    "    universo = pd.merge(universo, df_qty_9, how='left', left_on=['user_id'], right_on=['USER_ID'])\n",
    "    universo.rename(columns={'mes': 'qty_adopciones_9M'}, inplace=True)\n",
    "    \n",
    "    universo = universo.fillna(0)\n",
    "    return universo"
   ]
  },
  {
   "cell_type": "markdown",
   "metadata": {},
   "source": [
    "Metodo que calcula la cantidad de dias desde la ultima adopcion\n",
    "\n",
    "Ojo! Las adopciones las tenemos a nivel mes, por lo que se tomo el dia de cierre de dicho mes"
   ]
  },
  {
   "cell_type": "code",
   "execution_count": 5,
   "metadata": {},
   "outputs": [],
   "source": [
    "def qty_days_last_adoption(universo, df_conversiones):\n",
    "    # today = datetime.datetime.today() # should today be first day of incoming month?\n",
    "    today = datetime.datetime(year=year, month=mes_snapshot+1, day=1)\n",
    "    \n",
    "    df_conversiones = df_conversiones[df_conversiones['mes'] <= mes_snapshot]\n",
    "    df_conversiones = df_conversiones[df_conversiones['mes'] > mes_snapshot - 9]\n",
    "    df_conversiones = df_conversiones.astype({'mes': 'int32', 'anio': 'int32', 'USER_ID': 'int64'})\n",
    "\n",
    "    df_conversiones['date'] = df_conversiones.apply(lambda row: \n",
    "                                                    datetime.datetime(year=row['anio'], \n",
    "                                                                      month=row['mes'], \n",
    "                                                                      day=calendar.monthrange(row['anio'], row['mes'])[1]),\n",
    "                                                   axis=1)\n",
    "    df_conversiones = df_conversiones.groupby(['USER_ID']).max().reset_index()\n",
    "    df_conversiones['qty_dias_ultima_adopcion'] = df_conversiones.apply(lambda row: ((today - row['date']).days), axis=1)\n",
    "    df_conversiones.drop(['date'], axis='columns', inplace=True)\n",
    "    \n",
    "    universo = pd.merge(universo, df_conversiones, how='left', left_on=['user_id'], right_on=['USER_ID'])\n",
    "    universo = universo.fillna(0)\n",
    "    return universo"
   ]
  },
  {
   "cell_type": "markdown",
   "metadata": {},
   "source": [
    "Metodo que calcula la cantidad de dias desde la ultima visita.\n",
    "Los NaNs se fillean en cero."
   ]
  },
  {
   "cell_type": "code",
   "execution_count": 6,
   "metadata": {},
   "outputs": [],
   "source": [
    "def qty_days_last_visit(universo, df_pageviews):\n",
    "    today = datetime.datetime(year=year, month=mes_snapshot+1, day=1)\n",
    "    \n",
    "    df_pageviews['mes'] = pd.DatetimeIndex(df_pageviews['FEC_EVENT']).month\n",
    "    df_pageviews = df_pageviews[df_pageviews.mes <= mes_snapshot]\n",
    "    df_pageviews = df_pageviews[df_pageviews.mes > mes_snapshot - 9]\n",
    "    \n",
    "    df_ = df_pageviews.groupby(['USER_ID']).max()\n",
    "    df_.drop(df_.columns.difference(['USER_ID', 'FEC_EVENT']), axis=1, inplace=True)\n",
    "    df_['qty_dias_ultimo_page_ingreso'] = df_.apply(lambda row: (today - row['FEC_EVENT']).days, axis=1)\n",
    "    df_.drop(['FEC_EVENT'], axis='columns', inplace=True)\n",
    "\n",
    "    universo = pd.merge(universo, df_, how='left', left_on=['user_id'], right_on=['USER_ID'])\n",
    "    universo = universo.fillna(0)\n",
    "    return universo"
   ]
  },
  {
   "cell_type": "code",
   "execution_count": 7,
   "metadata": {},
   "outputs": [],
   "source": [
    "# this function should not go since it'd include the cases when adoption is nans (replaced by zero)\n",
    "\n",
    "# def qty_days_last_visit_vs_adoption_bis(universo, df_pageviews, df_conversiones):\n",
    "#     universo = qty_days_last_adoption(universo, df_conversiones)\n",
    "#     universo = qty_days_last_visit(universo, df_pageviews)\n",
    "#     universo['qty_days_last_visit_vs_adoption'] = universo.apply(lambda row: abs(row['qty_days_last_adoption'] - row['qty_days_last_visit']), axis=1)\n",
    "    \n",
    "#     return universo"
   ]
  },
  {
   "cell_type": "markdown",
   "metadata": {},
   "source": [
    "Metodo que calcula la cantidad de dias entre la ultima adopcion y la ultima visita. Se toma la diferencia a valor absoluto.\n",
    "\n",
    "Los NaNs se fillean en cero."
   ]
  },
  {
   "cell_type": "code",
   "execution_count": 8,
   "metadata": {},
   "outputs": [],
   "source": [
    "def qty_days_last_visit_vs_adoption(universo, df_pageviews, df_conversiones):\n",
    "    df_pageviews['mes'] = pd.DatetimeIndex(df_pageviews['FEC_EVENT']).month\n",
    "    df_pageviews = df_pageviews[df_pageviews.mes <= mes_snapshot]\n",
    "    df_pageviews = df_pageviews[df_pageviews.mes > mes_snapshot - 9]\n",
    "    df_ = df_pageviews.groupby(['USER_ID']).max()\n",
    "    df_.drop(df_.columns.difference(['USER_ID', 'FEC_EVENT']), axis=1, inplace=True)\n",
    "\n",
    "    df_conversiones = df_conversiones[df_conversiones['mes'] <= mes_snapshot]\n",
    "    df_conversiones = df_conversiones[df_conversiones['mes'] > mes_snapshot - 9]\n",
    "    df_conversiones = df_conversiones.astype({'mes': 'int32', 'anio': 'int32', 'USER_ID': 'int64'})\n",
    "    df_conversiones['date'] = df_conversiones.apply(lambda row: \n",
    "                                                    datetime.datetime(year=row['anio'], \n",
    "                                                                      month=row['mes'], \n",
    "                                                                      day=calendar.monthrange(row['anio'], row['mes'])[1]),\n",
    "                                                   axis=1)\n",
    "    df_conversiones = df_conversiones.groupby(['USER_ID']).max().reset_index()\n",
    "\n",
    "    df_conversiones = pd.merge(df_conversiones, df_, how='left', on=['USER_ID'])\n",
    "    df_conversiones['qty_días_adoption_ultimo_page_ingreso'] = df_conversiones.apply(lambda row: abs((row['date'] - row['FEC_EVENT']).days), axis=1)\n",
    "    df_conversiones.drop(['FEC_EVENT', 'date', 'mes', 'anio'], axis='columns', inplace=True)\n",
    "\n",
    "    universo = pd.merge(universo, df_conversiones, how='left', left_on=['user_id'], right_on=['USER_ID'])\n",
    "    universo.drop(['USER_ID'], axis='columns', inplace=True)\n",
    "    universo = universo.fillna(0)\n",
    "    return universo"
   ]
  },
  {
   "cell_type": "markdown",
   "metadata": {},
   "source": [
    "Metodo que calcula los ratios de cantidad de adopciones sobre cantidad de ingresos a paginas\n",
    "\n",
    "Hay varias variantes:\n",
    "- ultimos 9 meses\n",
    "- ultimos 6 meses\n",
    "- ultimos 3 meses\n",
    "- ultimo mes"
   ]
  },
  {
   "cell_type": "code",
   "execution_count": 9,
   "metadata": {},
   "outputs": [],
   "source": [
    "def ratio_page_qty_adopciones(universo, df_pagevies, df_conversiones):\n",
    "    mes_snapshot = universo['snapshot_mes'][0]\n",
    "    df_conversiones = df_conversiones[df_conversiones['mes'] <= mes_snapshot]\n",
    "    df_conversiones = df_conversiones[df_conversiones['mes'] > mes_snapshot - 9]\n",
    "    df_conversiones = df_conversiones.astype({'mes': 'int32', 'USER_ID': 'int64'})\n",
    "    df_pageviews['mes'] = df_pageviews.apply(lambda row: row['FEC_EVENT'].month, axis='columns')\n",
    "\n",
    "\n",
    "    qty_3 = [mes_snapshot, mes_snapshot-1, mes_snapshot-2]\n",
    "    qty_6 = [mes_snapshot, mes_snapshot-1, mes_snapshot-2, mes_snapshot-3, mes_snapshot-4, mes_snapshot-5]\n",
    "\n",
    "\n",
    "    df_qty_3 = df_conversiones[df_conversiones['mes'].isin(qty_3)].groupby(['USER_ID']).count()\n",
    "    df_qty_3.drop(['anio'], axis='columns', inplace=True)\n",
    "    df_qty_6 = df_conversiones[df_conversiones['mes'].isin(qty_6)].groupby(['USER_ID']).count()\n",
    "    df_qty_6.drop(['anio'], axis='columns', inplace=True)\n",
    "    df_qty_9 = df_conversiones.groupby(['USER_ID']).count()\n",
    "    df_qty_9.drop(['anio'], axis='columns', inplace=True)\n",
    "\n",
    "\n",
    "    universo = pd.merge(universo, df_qty_3, how='left', left_on=['user_id'], right_on=['USER_ID'])\n",
    "    universo.rename(columns={'mes': 'qty_adopciones_3M'}, inplace=True)\n",
    "    universo = pd.merge(universo, df_qty_6, how='left', left_on=['user_id'], right_on=['USER_ID'])\n",
    "    universo.rename(columns={'mes': 'qty_adopciones_6M'}, inplace=True)\n",
    "    universo = pd.merge(universo, df_qty_9, how='left', left_on=['user_id'], right_on=['USER_ID'])\n",
    "    universo.rename(columns={'mes': 'qty_adopciones_9M'}, inplace=True)\n",
    "\n",
    "\n",
    "    df_qty_visits_3 = df_pageviews[df_pageviews['mes'].isin(qty_3)].groupby(['USER_ID']).count()\n",
    "    df_qty_visits_3.drop(df_qty_visits_3.columns.difference(['USER_ID', 'mes']), axis='columns', inplace=True)\n",
    "    df_qty_visits_6 = df_pageviews[df_pageviews['mes'].isin(qty_6)].groupby(['USER_ID']).count()\n",
    "    df_qty_visits_6.drop(df_qty_visits_6.columns.difference(['USER_ID', 'mes']), axis='columns', inplace=True)\n",
    "    df_qty_visits_9 = df_pageviews.groupby(['USER_ID']).count()\n",
    "    df_qty_visits_9.drop(df_qty_visits_9.columns.difference(['USER_ID', 'mes']), axis='columns', inplace=True)\n",
    "\n",
    "\n",
    "    universo = pd.merge(universo, df_qty_visits_3, how='left', left_on=['user_id'], right_on=['USER_ID'])\n",
    "    universo.rename(columns={'mes': 'qty_visits_3M'}, inplace=True)\n",
    "    universo = pd.merge(universo, df_qty_visits_6, how='left', left_on=['user_id'], right_on=['USER_ID'])\n",
    "    universo.rename(columns={'mes': 'qty_visits_6M'}, inplace=True)\n",
    "    universo = pd.merge(universo, df_qty_visits_9, how='left', left_on=['user_id'], right_on=['USER_ID'])\n",
    "    universo.rename(columns={'mes': 'qty_visits_9M'}, inplace=True)\n",
    "\n",
    "\n",
    "    universo['ratio_page_qty_adopciones_3M'] = universo.apply(lambda row: row['qty_adopciones_3M']/row['qty_visits_3M']*100, axis='columns')\n",
    "    universo['ratio_page_qty_adopciones_6M'] = universo.apply(lambda row: row['qty_adopciones_6M']/row['qty_visits_6M']*100, axis='columns')\n",
    "    universo['ratio_page_qty_adopciones_9M'] = universo.apply(lambda row: row['qty_adopciones_9M']/row['qty_visits_9M']*100, axis='columns')\n",
    "\n",
    "\n",
    "    universo.drop(universo.columns.difference(['user_id','snapshot_mes','ratio_page_qty_adopciones_3M',\n",
    "                                               'ratio_page_qty_adopciones_6M','ratio_page_qty_adopciones_9M']), \n",
    "                 axis='columns', inplace=True)\n",
    "\n",
    "    return universo"
   ]
  },
  {
   "cell_type": "code",
   "execution_count": 10,
   "metadata": {},
   "outputs": [
    {
     "data": {
      "text/html": [
       "<div>\n",
       "<style scoped>\n",
       "    .dataframe tbody tr th:only-of-type {\n",
       "        vertical-align: middle;\n",
       "    }\n",
       "\n",
       "    .dataframe tbody tr th {\n",
       "        vertical-align: top;\n",
       "    }\n",
       "\n",
       "    .dataframe thead th {\n",
       "        text-align: right;\n",
       "    }\n",
       "</style>\n",
       "<table border=\"1\" class=\"dataframe\">\n",
       "  <thead>\n",
       "    <tr style=\"text-align: right;\">\n",
       "      <th></th>\n",
       "      <th>user_id</th>\n",
       "      <th>snapshot_mes</th>\n",
       "    </tr>\n",
       "  </thead>\n",
       "  <tbody>\n",
       "    <tr>\n",
       "      <th>0</th>\n",
       "      <td>0</td>\n",
       "      <td>9</td>\n",
       "    </tr>\n",
       "    <tr>\n",
       "      <th>1</th>\n",
       "      <td>1</td>\n",
       "      <td>9</td>\n",
       "    </tr>\n",
       "    <tr>\n",
       "      <th>2</th>\n",
       "      <td>2</td>\n",
       "      <td>9</td>\n",
       "    </tr>\n",
       "  </tbody>\n",
       "</table>\n",
       "</div>"
      ],
      "text/plain": [
       "   user_id  snapshot_mes\n",
       "0        0             9\n",
       "1        1             9\n",
       "2        2             9"
      ]
     },
     "execution_count": 10,
     "metadata": {},
     "output_type": "execute_result"
    }
   ],
   "source": [
    "# universo.head(3)"
   ]
  },
  {
   "cell_type": "code",
   "execution_count": 11,
   "metadata": {},
   "outputs": [
    {
     "data": {
      "text/html": [
       "<div>\n",
       "<style scoped>\n",
       "    .dataframe tbody tr th:only-of-type {\n",
       "        vertical-align: middle;\n",
       "    }\n",
       "\n",
       "    .dataframe tbody tr th {\n",
       "        vertical-align: top;\n",
       "    }\n",
       "\n",
       "    .dataframe thead th {\n",
       "        text-align: right;\n",
       "    }\n",
       "</style>\n",
       "<table border=\"1\" class=\"dataframe\">\n",
       "  <thead>\n",
       "    <tr style=\"text-align: right;\">\n",
       "      <th></th>\n",
       "      <th>mes</th>\n",
       "      <th>anio</th>\n",
       "      <th>USER_ID</th>\n",
       "    </tr>\n",
       "  </thead>\n",
       "  <tbody>\n",
       "    <tr>\n",
       "      <th>0</th>\n",
       "      <td>7.0</td>\n",
       "      <td>2018.0</td>\n",
       "      <td>1410.0</td>\n",
       "    </tr>\n",
       "    <tr>\n",
       "      <th>1</th>\n",
       "      <td>8.0</td>\n",
       "      <td>2018.0</td>\n",
       "      <td>10755.0</td>\n",
       "    </tr>\n",
       "    <tr>\n",
       "      <th>2</th>\n",
       "      <td>8.0</td>\n",
       "      <td>2018.0</td>\n",
       "      <td>8270.0</td>\n",
       "    </tr>\n",
       "  </tbody>\n",
       "</table>\n",
       "</div>"
      ],
      "text/plain": [
       "   mes    anio  USER_ID\n",
       "0  7.0  2018.0   1410.0\n",
       "1  8.0  2018.0  10755.0\n",
       "2  8.0  2018.0   8270.0"
      ]
     },
     "execution_count": 11,
     "metadata": {},
     "output_type": "execute_result"
    }
   ],
   "source": [
    "# df_conversiones.head(3)"
   ]
  },
  {
   "cell_type": "code",
   "execution_count": 15,
   "metadata": {},
   "outputs": [
    {
     "data": {
      "text/html": [
       "<div>\n",
       "<style scoped>\n",
       "    .dataframe tbody tr th:only-of-type {\n",
       "        vertical-align: middle;\n",
       "    }\n",
       "\n",
       "    .dataframe tbody tr th {\n",
       "        vertical-align: top;\n",
       "    }\n",
       "\n",
       "    .dataframe thead th {\n",
       "        text-align: right;\n",
       "    }\n",
       "</style>\n",
       "<table border=\"1\" class=\"dataframe\">\n",
       "  <thead>\n",
       "    <tr style=\"text-align: right;\">\n",
       "      <th></th>\n",
       "      <th>FEC_EVENT</th>\n",
       "      <th>PAGE</th>\n",
       "      <th>CONTENT_CATEGORY</th>\n",
       "      <th>CONTENT_CATEGORY_TOP</th>\n",
       "      <th>CONTENT_CATEGORY_BOTTOM</th>\n",
       "      <th>SITE_ID</th>\n",
       "      <th>ON_SITE_SEARCH_TERM</th>\n",
       "      <th>USER_ID</th>\n",
       "      <th>month</th>\n",
       "    </tr>\n",
       "  </thead>\n",
       "  <tbody>\n",
       "    <tr>\n",
       "      <th>0</th>\n",
       "      <td>2018-03-30 07:35:48</td>\n",
       "      <td>1</td>\n",
       "      <td>1</td>\n",
       "      <td>1</td>\n",
       "      <td>1</td>\n",
       "      <td>1</td>\n",
       "      <td>1</td>\n",
       "      <td>0</td>\n",
       "      <td>3</td>\n",
       "    </tr>\n",
       "    <tr>\n",
       "      <th>1</th>\n",
       "      <td>2018-03-30 07:35:52</td>\n",
       "      <td>2</td>\n",
       "      <td>2</td>\n",
       "      <td>2</td>\n",
       "      <td>2</td>\n",
       "      <td>2</td>\n",
       "      <td>1</td>\n",
       "      <td>0</td>\n",
       "      <td>3</td>\n",
       "    </tr>\n",
       "    <tr>\n",
       "      <th>2</th>\n",
       "      <td>2018-03-30 07:36:11</td>\n",
       "      <td>3</td>\n",
       "      <td>2</td>\n",
       "      <td>2</td>\n",
       "      <td>2</td>\n",
       "      <td>3</td>\n",
       "      <td>1</td>\n",
       "      <td>0</td>\n",
       "      <td>3</td>\n",
       "    </tr>\n",
       "  </tbody>\n",
       "</table>\n",
       "</div>"
      ],
      "text/plain": [
       "            FEC_EVENT  PAGE  CONTENT_CATEGORY  CONTENT_CATEGORY_TOP  \\\n",
       "0 2018-03-30 07:35:48     1                 1                     1   \n",
       "1 2018-03-30 07:35:52     2                 2                     2   \n",
       "2 2018-03-30 07:36:11     3                 2                     2   \n",
       "\n",
       "   CONTENT_CATEGORY_BOTTOM  SITE_ID  ON_SITE_SEARCH_TERM  USER_ID  month  \n",
       "0                        1        1                    1        0      3  \n",
       "1                        2        2                    1        0      3  \n",
       "2                        2        3                    1        0      3  "
      ]
     },
     "execution_count": 15,
     "metadata": {},
     "output_type": "execute_result"
    }
   ],
   "source": [
    "# df_pageviews.head(3)"
   ]
  },
  {
   "cell_type": "markdown",
   "metadata": {},
   "source": [
    "Metodo que calcula ratios de ultimo mes adopcion vs ultimo mes actual sobre una pagina de preferencia\n",
    "\n",
    "- ratio_adoption_page_preferencia\n",
    "\n",
    "numero veces de ingresos a la misma páginas el último mes/ numero veces que entró a una pagina ultimo mes antes de adoptar (ojo que puede ser 0 el denominador)\n",
    "- ratio_adoption_page_interes\n",
    "\n",
    "numero veces de ingresos a alguna páginas el último mes / numero veces que entró a alguna pagina ultimo mes antes de adoptar (ojo que puede ser 0 el denominador)"
   ]
  },
  {
   "cell_type": "code",
   "execution_count": 14,
   "metadata": {},
   "outputs": [],
   "source": [
    "# df_pageviews['mes'] = df_pageviews.apply(lambda row: row['FEC_EVENT'].month, axis='columns')\n",
    "# df_pageviews.groupby(['USER_ID', 'PAGE', 'mes']).count()\n",
    "# df_pageviews.rename({'FEC_EVENT': 'qty_visits'}, axis=1, inplace=True)\n",
    "\n",
    "# df_conversiones = df_conversiones.drop(['anio'], axis='columns', inplace=True)\n",
    "# df_conversiones = df_conversiones.groupby(['USER_ID']).max()\n",
    "\n",
    "# pages = df_pageviews.PAGE.distinct()\n",
    "# for page in pages:\n",
    "#     df_conversiones['PAGE'] = page\n",
    "#     aux = pd.merge(df_conversiones, df_pageviews, how='left', left_on=['USER_ID', 'PAGE'], right_on=['USER_ID', 'PAGE'])\n",
    "#     aux[page+'_qty'] = aux.apply(lambda row: row['qty_visits'] / )\n"
   ]
  },
  {
   "cell_type": "code",
   "execution_count": null,
   "metadata": {},
   "outputs": [],
   "source": []
  }
 ],
 "metadata": {
  "kernelspec": {
   "display_name": "Python 3",
   "language": "python",
   "name": "python3"
  },
  "language_info": {
   "codemirror_mode": {
    "name": "ipython",
    "version": 3
   },
   "file_extension": ".py",
   "mimetype": "text/x-python",
   "name": "python",
   "nbconvert_exporter": "python",
   "pygments_lexer": "ipython3",
   "version": "3.7.3"
  }
 },
 "nbformat": 4,
 "nbformat_minor": 2
}
