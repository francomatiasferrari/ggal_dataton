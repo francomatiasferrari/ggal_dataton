{
 "cells": [
  {
   "cell_type": "code",
   "execution_count": null,
   "metadata": {
    "_cell_guid": "b1076dfc-b9ad-4769-8c92-a6c4dae69d19",
    "_uuid": "8f2839f25d086af736a60e9eeb907d3b93b6e0e5"
   },
   "outputs": [],
   "source": [
    "import numpy as np \n",
    "import pandas as pd "
   ]
  },
  {
   "cell_type": "markdown",
   "metadata": {},
   "source": [
    "# Lectura de los csv"
   ]
  },
  {
   "cell_type": "code",
   "execution_count": null,
   "metadata": {
    "_cell_guid": "79c7e3d0-c299-4dcb-8224-4455121ee9b0",
    "_uuid": "d629ff2d2480ee46fbb7e2d37f6b5fab8052498a"
   },
   "outputs": [],
   "source": [
    "df_pageviews = pd.read_csv(\"./data/pageviews.csv\",\n",
    "                   parse_dates=[\"FEC_EVENT\"])\n",
    "df_devicedata = pd.read_csv(\"./data/device_data.csv\",\n",
    "                   parse_dates=[\"FEC_EVENT\"])\n",
    "df_conversiones = pd.read_csv(\"./data/conversiones.csv\")"
   ]
  },
  {
   "cell_type": "markdown",
   "metadata": {},
   "source": [
    "# Creación del universo"
   ]
  },
  {
   "cell_type": "code",
   "execution_count": null,
   "metadata": {},
   "outputs": [],
   "source": [
    "def universo_train(df):\n",
    "    users = pd.DataFrame()\n",
    "    users['user_id'] = df.USER_ID.unique()\n",
    "    users['key'] = 1\n",
    "    snapshots = pd.DataFrame({'snapshot_mes':[1,2,3,4,5,6,7,8,9,12]})\n",
    "    snapshots['key'] = 1\n",
    "    return pd.merge(users, snapshots, how='left', on = 'key').drop(['key'], axis=1)"
   ]
  },
  {
   "cell_type": "code",
   "execution_count": null,
   "metadata": {},
   "outputs": [],
   "source": [
    "universo_train(df_pageviews)"
   ]
  },
  {
   "cell_type": "markdown",
   "metadata": {},
   "source": [
    "# Features"
   ]
  },
  {
   "cell_type": "code",
   "execution_count": null,
   "metadata": {},
   "outputs": [],
   "source": [
    "def feature_X(df):\n",
    "    "
   ]
  },
  {
   "cell_type": "code",
   "execution_count": null,
   "metadata": {},
   "outputs": [],
   "source": [
    "def feature_X1(df):"
   ]
  },
  {
   "cell_type": "markdown",
   "metadata": {},
   "source": [
    "# Armar dataset"
   ]
  },
  {
   "cell_type": "code",
   "execution_count": null,
   "metadata": {},
   "outputs": [],
   "source": [
    "universo = feature_X(universo)\n",
    "universo = feature_X1(universo)"
   ]
  },
  {
   "cell_type": "markdown",
   "metadata": {},
   "source": [
    "# Target"
   ]
  },
  {
   "cell_type": "code",
   "execution_count": null,
   "metadata": {},
   "outputs": [],
   "source": [
    "def target(df):\n",
    "    df = pd.merge(df, df_conversiones, how='left', left_on=['user_id'], right_on=['USER_ID'])\n",
    "    df.mes.fillna(value= 99, inplace=True)\n",
    "    df = df.astype({'mes': 'int32'}) \n",
    "\n",
    "    df['target'] = 0\n",
    "    df.loc[df.mes == df.snapshot_mes +1, 'target'] = 1\n",
    "    df.loc[df.mes == df.snapshot_mes +2, 'target'] = 1\n",
    "    df.loc[df.mes == df.snapshot_mes +3, 'target'] = 1\n",
    "\n",
    "    return (df.groupby(['user_id', 'snapshot_mes'])['target'].max()).to_frame().reset_index()\n"
   ]
  },
  {
   "cell_type": "code",
   "execution_count": null,
   "metadata": {},
   "outputs": [],
   "source": [
    "target(universo)"
   ]
  },
  {
   "cell_type": "code",
   "execution_count": null,
   "metadata": {},
   "outputs": [],
   "source": []
  }
 ],
 "metadata": {
  "kernelspec": {
   "display_name": "Python 3",
   "language": "python",
   "name": "python3"
  },
  "language_info": {
   "codemirror_mode": {
    "name": "ipython",
    "version": 3
   },
   "file_extension": ".py",
   "mimetype": "text/x-python",
   "name": "python",
   "nbconvert_exporter": "python",
   "pygments_lexer": "ipython3",
   "version": "3.7.2"
  }
 },
 "nbformat": 4,
 "nbformat_minor": 2
}
