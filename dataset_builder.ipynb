{
 "cells": [
  {
   "cell_type": "code",
   "execution_count": 9,
   "metadata": {
    "_cell_guid": "b1076dfc-b9ad-4769-8c92-a6c4dae69d19",
    "_uuid": "8f2839f25d086af736a60e9eeb907d3b93b6e0e5"
   },
   "outputs": [],
   "source": [
    "import numpy as np \n",
    "import pandas as pd \n",
    "from ipynb.fs.full.funciones_FF import feature_RatioDayMoments, feature_Basicos, feature_Basicos_Ult_7d\n",
    "\n",
    "from ipynb.fs.full.funciones_CF import qty_adoptions, qty_days_last_adoption\n",
    "from ipynb.fs.full.funciones_CF import qty_days_last_visit, qty_days_last_visit_vs_adoption\n",
    "from ipynb.fs.full.funciones_CF import ratio_page_qty_adopciones\n",
    "\n",
    "from ipynb.fs.full.funciones_LB import ratio_page_all\n",
    "from ipynb.fs.full.funciones_LB import ratio_ccategory_all\n",
    "from ipynb.fs.full.funciones_LB import ratio_cctop_all\n",
    "from ipynb.fs.full.funciones_LB import ratio_ccbottom_all\n",
    "from ipynb.fs.full.funciones_LB import ratio_site_id_all\n",
    "from ipynb.fs.full.funciones_LB import ratio_mobile_device_all\n",
    "from ipynb.fs.full.funciones_LB import ratio_connection_speed_all\n",
    "from ipynb.fs.full.funciones_LB import ratio_on_site_search_term_all\n",
    "\n",
    "from ipynb.fs.full.funciones_AM import ratio_adoption_page_all\n",
    "from ipynb.fs.full.funciones_AM import ratio_adoption_ccategory_all\n",
    "from ipynb.fs.full.funciones_AM import ratio_adoption_cctop_all\n",
    "from ipynb.fs.full.funciones_AM import ratio_adoption_ccbottom_all\n",
    "from ipynb.fs.full.funciones_AM import ratio_adoption_site_id_all\n",
    "from ipynb.fs.full.funciones_AM import ratio_adoption_mobile_device_all\n",
    "from ipynb.fs.full.funciones_AM import ratio_adoption_connection_speed_all\n",
    "from ipynb.fs.full.funciones_AM import ratio_adoption_on_site_search_term_all"
   ]
  },
  {
   "cell_type": "code",
   "execution_count": 10,
   "metadata": {},
   "outputs": [
    {
     "name": "stdout",
     "output_type": "stream",
     "text": [
      "The autoreload extension is already loaded. To reload it, use:\n",
      "  %reload_ext autoreload\n"
     ]
    }
   ],
   "source": [
    "# Para que levante las funciones que se van actualizando en los otros notebooks\n",
    "%load_ext autoreload\n",
    "%autoreload 2"
   ]
  },
  {
   "cell_type": "markdown",
   "metadata": {},
   "source": [
    "# Seteo del mes snapshot"
   ]
  },
  {
   "cell_type": "code",
   "execution_count": 11,
   "metadata": {},
   "outputs": [],
   "source": [
    "mes_snapshot = 9  #9 para train 12 para scoreo"
   ]
  },
  {
   "cell_type": "markdown",
   "metadata": {},
   "source": [
    "# Lectura de los csv"
   ]
  },
  {
   "cell_type": "code",
   "execution_count": 12,
   "metadata": {
    "_cell_guid": "79c7e3d0-c299-4dcb-8224-4455121ee9b0",
    "_uuid": "d629ff2d2480ee46fbb7e2d37f6b5fab8052498a"
   },
   "outputs": [],
   "source": [
    "df_pageviews = pd.read_csv(\"./data/pageviews.csv\",\n",
    "                   parse_dates=[\"FEC_EVENT\"])\n",
    "df_pageviews_complemento = pd.read_csv(\"./data/pageviews_complemento.csv\",\n",
    "                   parse_dates=[\"FEC_EVENT\"])\n",
    "df_pageviews = pd.concat([df_pageviews, df_pageviews_complemento],ignore_index=True,sort=False).drop_duplicates().reset_index(drop=True)\n",
    "df_devicedata = pd.read_csv(\"./data/device_data.csv\",\n",
    "                   parse_dates=[\"FEC_EVENT\"]).drop_duplicates().reset_index(drop=True)\n",
    "df_conversiones = pd.read_csv(\"./data/conversiones.csv\").drop_duplicates().reset_index(drop=True)"
   ]
  },
  {
   "cell_type": "code",
   "execution_count": 13,
   "metadata": {},
   "outputs": [],
   "source": [
    "#Se eliminan los registros que no deben ser considerados.\n",
    "df_pageviews = df_pageviews[df_pageviews['FEC_EVENT'].dt.month <= mes_snapshot]\n",
    "df_pageviews = df_pageviews[df_pageviews['FEC_EVENT'].dt.month > mes_snapshot - 9]\n",
    "\n",
    "df_devicedata = df_devicedata[df_devicedata['FEC_EVENT'].dt.month <= mes_snapshot]\n",
    "df_devicedata = df_devicedata[df_devicedata['FEC_EVENT'].dt.month > mes_snapshot - 9]"
   ]
  },
  {
   "cell_type": "markdown",
   "metadata": {},
   "source": [
    "# Creación del universo"
   ]
  },
  {
   "cell_type": "code",
   "execution_count": 14,
   "metadata": {},
   "outputs": [],
   "source": [
    "def universo_train(df):\n",
    "    universo = pd.DataFrame()\n",
    "    universo['user_id'] = df.USER_ID.unique()\n",
    "    universo['snapshot_mes'] = mes_snapshot\n",
    "    return universo"
   ]
  },
  {
   "cell_type": "code",
   "execution_count": 15,
   "metadata": {},
   "outputs": [],
   "source": [
    "universo = universo_train(df_pageviews)"
   ]
  },
  {
   "cell_type": "markdown",
   "metadata": {},
   "source": [
    "# Features"
   ]
  },
  {
   "cell_type": "code",
   "execution_count": 16,
   "metadata": {},
   "outputs": [
    {
     "name": "stdout",
     "output_type": "stream",
     "text": [
      "llegue 1/9\n",
      "llegue 2/9\n",
      "llegue 3/9\n",
      "llegue 4/9\n",
      "llegue 5/9\n",
      "llegue 6/9\n",
      "llegue 7/9\n",
      "llegue 8/9\n",
      "llegue 9/9\n",
      "llegue 1/9\n",
      "llegue 2/9\n",
      "llegue 3/9\n",
      "llegue 4/9\n",
      "llegue 5/9\n",
      "llegue 6/9\n",
      "llegue 7/9\n",
      "llegue 8/9\n",
      "llegue 9/9\n",
      "llegue 1/9\n",
      "llegue 2/9\n",
      "llegue 3/9\n",
      "llegue 4/9\n",
      "llegue 5/9\n",
      "llegue 6/9\n",
      "llegue 7/9\n",
      "llegue 8/9\n",
      "llegue 9/9\n",
      "llegue 1/9\n",
      "llegue 2/9\n",
      "llegue 3/9\n",
      "llegue 4/9\n",
      "llegue 5/9\n",
      "llegue 6/9\n",
      "llegue 7/9\n",
      "llegue 8/9\n",
      "llegue 9/9\n",
      "llegue 1/9\n",
      "llegue 2/9\n",
      "llegue 3/9\n",
      "llegue 4/9\n",
      "llegue 5/9\n",
      "llegue 6/9\n",
      "llegue 7/9\n",
      "llegue 8/9\n",
      "llegue 9/9\n"
     ]
    },
    {
     "ename": "NameError",
     "evalue": "name 'df_adoption' is not defined",
     "output_type": "error",
     "traceback": [
      "\u001b[0;31m---------------------------------------------------------------------------\u001b[0m",
      "\u001b[0;31mNameError\u001b[0m                                 Traceback (most recent call last)",
      "\u001b[0;32m<ipython-input-16-3e67ed7616a7>\u001b[0m in \u001b[0;36m<module>\u001b[0;34m\u001b[0m\n\u001b[1;32m     17\u001b[0m \u001b[0mdf_union\u001b[0m \u001b[0;34m=\u001b[0m \u001b[0mpd\u001b[0m\u001b[0;34m.\u001b[0m\u001b[0mmerge\u001b[0m\u001b[0;34m(\u001b[0m\u001b[0mdf_union\u001b[0m\u001b[0;34m,\u001b[0m \u001b[0mfeatures\u001b[0m\u001b[0;34m,\u001b[0m \u001b[0mhow\u001b[0m\u001b[0;34m=\u001b[0m\u001b[0;34m'left'\u001b[0m\u001b[0;34m,\u001b[0m \u001b[0mleft_on\u001b[0m\u001b[0;34m=\u001b[0m\u001b[0;34m[\u001b[0m\u001b[0;34m'user_id'\u001b[0m\u001b[0;34m]\u001b[0m\u001b[0;34m,\u001b[0m \u001b[0mright_on\u001b[0m\u001b[0;34m=\u001b[0m\u001b[0;34m[\u001b[0m\u001b[0;34m'user_id'\u001b[0m\u001b[0;34m]\u001b[0m\u001b[0;34m)\u001b[0m\u001b[0;34m\u001b[0m\u001b[0;34m\u001b[0m\u001b[0m\n\u001b[1;32m     18\u001b[0m \u001b[0;34m\u001b[0m\u001b[0m\n\u001b[0;32m---> 19\u001b[0;31m \u001b[0mfeatures\u001b[0m \u001b[0;34m=\u001b[0m \u001b[0mratio_mobile_device_all\u001b[0m\u001b[0;34m(\u001b[0m\u001b[0muniverso\u001b[0m\u001b[0;34m,\u001b[0m \u001b[0mdf_pageviews\u001b[0m\u001b[0;34m,\u001b[0m \u001b[0mdf_adoption\u001b[0m\u001b[0;34m,\u001b[0m \u001b[0mmes_snapshot\u001b[0m\u001b[0;34m)\u001b[0m\u001b[0;34m\u001b[0m\u001b[0;34m\u001b[0m\u001b[0m\n\u001b[0m\u001b[1;32m     20\u001b[0m \u001b[0mdf_union\u001b[0m \u001b[0;34m=\u001b[0m \u001b[0mpd\u001b[0m\u001b[0;34m.\u001b[0m\u001b[0mmerge\u001b[0m\u001b[0;34m(\u001b[0m\u001b[0mdf_union\u001b[0m\u001b[0;34m,\u001b[0m \u001b[0mfeatures\u001b[0m\u001b[0;34m,\u001b[0m \u001b[0mhow\u001b[0m\u001b[0;34m=\u001b[0m\u001b[0;34m'left'\u001b[0m\u001b[0;34m,\u001b[0m \u001b[0mleft_on\u001b[0m\u001b[0;34m=\u001b[0m\u001b[0;34m[\u001b[0m\u001b[0;34m'user_id'\u001b[0m\u001b[0;34m]\u001b[0m\u001b[0;34m,\u001b[0m \u001b[0mright_on\u001b[0m\u001b[0;34m=\u001b[0m\u001b[0;34m[\u001b[0m\u001b[0;34m'user_id'\u001b[0m\u001b[0;34m]\u001b[0m\u001b[0;34m)\u001b[0m\u001b[0;34m\u001b[0m\u001b[0;34m\u001b[0m\u001b[0m\n\u001b[1;32m     21\u001b[0m \u001b[0;34m\u001b[0m\u001b[0m\n",
      "\u001b[0;31mNameError\u001b[0m: name 'df_adoption' is not defined"
     ]
    }
   ],
   "source": [
    "# LB methods\n",
    "df_union = universo\n",
    "\n",
    "features = ratio_page_all(universo, df_pageviews, mes_snapshot)\n",
    "df_union = pd.merge(df_union, features, how='left', left_on=['user_id'], right_on=['user_id'])\n",
    "\n",
    "features = ratio_ccategory_all(universo, df_pageviews, mes_snapshot)\n",
    "df_union = pd.merge(df_union, features, how='left', left_on=['user_id'], right_on=['user_id'])\n",
    "\n",
    "features = ratio_cctop_all(universo, df_pageviews, mes_snapshot)\n",
    "df_union = pd.merge(df_union, features, how='left', left_on=['user_id'], right_on=['user_id'])\n",
    "\n",
    "features = ratio_ccbottom_all(universo, df_pageviews, mes_snapshot)\n",
    "df_union = pd.merge(df_union, features, how='left', left_on=['user_id'], right_on=['user_id'])\n",
    "\n",
    "features = ratio_site_id_all(universo, df_pageviews, mes_snapshot)\n",
    "df_union = pd.merge(df_union, features, how='left', left_on=['user_id'], right_on=['user_id'])\n",
    "\n",
    "features = ratio_mobile_device_all(universo, df_devicedata, mes_snapshot)\n",
    "df_union = pd.merge(df_union, features, how='left', left_on=['user_id'], right_on=['user_id'])\n",
    "\n",
    "features = ratio_connection_speed_all(universo, df_devicedata, mes_snapshot)\n",
    "df_union = pd.merge(df_union, features, how='left', left_on=['user_id'], right_on=['user_id'])\n",
    "\n",
    "features = ratio_on_site_search_term_all(universo, df_devicedata, mes_snapshot)\n",
    "df_union = pd.merge(df_union, features, how='left', left_on=['user_id'], right_on=['user_id'])"
   ]
  },
  {
   "cell_type": "code",
   "execution_count": null,
   "metadata": {},
   "outputs": [],
   "source": [
    "df_union.to_csv('dataset_lb.csv', index = None, header=True)"
   ]
  },
  {
   "cell_type": "code",
   "execution_count": null,
   "metadata": {},
   "outputs": [],
   "source": [
    "# AM methods\n",
    "features = ratio_adoption_page_all(universo, df_pageviews, df_conversiones, mes_snapshot)\n",
    "df_union = pd.merge(df_union, features, how='left', left_on=['user_id'], right_on=['user_id'])\n",
    "\n",
    "features = ratio_adoption_ccategory_all(universo, df_pageviews, df_conversiones, mes_snapshot)\n",
    "df_union = pd.merge(df_union, features, how='left', left_on=['user_id'], right_on=['user_id'])\n",
    "\n",
    "features = ratio_adoption_cctop_all(universo, df_pageviews, df_conversiones, mes_snapshot)\n",
    "df_union = pd.merge(df_union, features, how='left', left_on=['user_id'], right_on=['user_id'])\n",
    "\n",
    "features = ratio_adoption_ccbottom_all(universo, df_pageviews, df_conversiones, mes_snapshot)\n",
    "df_union = pd.merge(df_union, features, how='left', left_on=['user_id'], right_on=['user_id'])\n",
    "\n",
    "features = ratio_adoption_site_id_all(universo, df_pageviews, df_conversiones, mes_snapshot)\n",
    "df_union = pd.merge(df_union, features, how='left', left_on=['user_id'], right_on=['user_id'])\n",
    "\n",
    "features = ratio_adoption_mobile_device_all(universo, df_devicedata, df_conversiones, mes_snapshot)\n",
    "df_union = pd.merge(df_union, features, how='left', left_on=['user_id'], right_on=['user_id'])\n",
    "\n",
    "features = ratio_adoption_connection_speed_all(universo, df_devicedata, df_conversiones, mes_snapshot)\n",
    "df_union = pd.merge(df_union, features, how='left', left_on=['user_id'], right_on=['user_id'])\n",
    "\n",
    "features = ratio_adoption_on_site_search_term_all(universo, df_devicedata, df_conversiones, mes_snapshot)\n",
    "df_union = pd.merge(df_union, features, how='left', left_on=['user_id'], right_on=['user_id'])"
   ]
  },
  {
   "cell_type": "code",
   "execution_count": null,
   "metadata": {},
   "outputs": [],
   "source": [
    "df_union.to_csv('dataset_am.csv', index = None, header=True)"
   ]
  },
  {
   "cell_type": "code",
   "execution_count": null,
   "metadata": {},
   "outputs": [],
   "source": [
    "# FF methods\n",
    "#features_a = df_pageviews.copy()\n",
    "features = feature_RatioDayMoments(universo, df_pageviews)\n",
    "df_union = pd.merge(df_union, features, how='left', left_on=['user_id'], right_on=['user_id'])"
   ]
  },
  {
   "cell_type": "code",
   "execution_count": null,
   "metadata": {},
   "outputs": [],
   "source": [
    "df_union.to_csv('dataset_ff.csv', index = None, header=True)"
   ]
  },
  {
   "cell_type": "code",
   "execution_count": null,
   "metadata": {},
   "outputs": [],
   "source": [
    "# CF methods\n",
    "features = qty_adoptions(universo, df_conversiones)\n",
    "df_union = pd.merge(df_union, features, how='left', left_on=['user_id'], right_on=['user_id'])\n",
    "\n",
    "features = qty_days_last_adoption(universo, df_conversiones)\n",
    "df_union = pd.merge(df_union, features, how='left', left_on=['user_id'], right_on=['user_id'])\n",
    "\n",
    "features = qty_days_last_visit(universo, df_pageviews)\n",
    "df_union = pd.merge(df_union, features, how='left', left_on=['user_id'], right_on=['user_id'])\n",
    "\n",
    "features = qty_days_last_visit_vs_adoption(universo, df_pageviews, df_conversiones)\n",
    "df_union = pd.merge(df_union, features, how='left', left_on=['user_id'], right_on=['user_id'])\n",
    "\n",
    "features = ratio_page_qty_adopciones(universo, df_pageviews, df_conversiones)\n",
    "df_union = pd.merge(df_union, features, how='left', left_on=['user_id'], right_on=['user_id'])"
   ]
  },
  {
   "cell_type": "code",
   "execution_count": null,
   "metadata": {},
   "outputs": [],
   "source": [
    "df_union.to_csv('dataset_cf.csv', index = None, header=True)"
   ]
  },
  {
   "cell_type": "markdown",
   "metadata": {},
   "source": [
    "# Target"
   ]
  },
  {
   "cell_type": "code",
   "execution_count": null,
   "metadata": {},
   "outputs": [],
   "source": [
    "def target(df):\n",
    "    df = pd.merge(df, df_conversiones, how='left', left_on=['user_id'], right_on=['USER_ID'])\n",
    "    df.mes.fillna(value= 99, inplace=True)\n",
    "    df = df.astype({'mes': 'int32'}) \n",
    "    \n",
    "    df['target'] = 0\n",
    "    df.loc[df.mes == df.snapshot_mes +1, 'target'] = 1\n",
    "    df.loc[df.mes == df.snapshot_mes +2, 'target'] = 1\n",
    "    df.loc[df.mes == df.snapshot_mes +3, 'target'] = 1\n",
    "\n",
    "    return (df.groupby(['user_id', 'snapshot_mes'])['target'].max()).to_frame().reset_index()"
   ]
  },
  {
   "cell_type": "code",
   "execution_count": null,
   "metadata": {},
   "outputs": [],
   "source": [
    "target_universo = target(universo)\n",
    "df_union = pd.merge(df_union, target_universo, how='left', left_on=['user_id'], right_on=['user_id'])\n"
   ]
  },
  {
   "cell_type": "code",
   "execution_count": null,
   "metadata": {},
   "outputs": [],
   "source": [
    "df_union.to_csv('dataset.csv', index = None, header=True)"
   ]
  },
  {
   "cell_type": "code",
   "execution_count": null,
   "metadata": {},
   "outputs": [],
   "source": []
  }
 ],
 "metadata": {
  "kernelspec": {
   "display_name": "Python 3",
   "language": "python",
   "name": "python3"
  },
  "language_info": {
   "codemirror_mode": {
    "name": "ipython",
    "version": 3
   },
   "file_extension": ".py",
   "mimetype": "text/x-python",
   "name": "python",
   "nbconvert_exporter": "python",
   "pygments_lexer": "ipython3",
   "version": "3.7.2"
  }
 },
 "nbformat": 4,
 "nbformat_minor": 2
}
