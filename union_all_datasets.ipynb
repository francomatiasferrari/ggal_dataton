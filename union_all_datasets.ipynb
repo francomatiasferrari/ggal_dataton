{
 "cells": [
  {
   "cell_type": "code",
   "execution_count": 3,
   "metadata": {},
   "outputs": [],
   "source": [
    "import pandas as pd"
   ]
  },
  {
   "cell_type": "code",
   "execution_count": 30,
   "metadata": {},
   "outputs": [
    {
     "data": {
      "text/html": [
       "<div>\n",
       "<style scoped>\n",
       "    .dataframe tbody tr th:only-of-type {\n",
       "        vertical-align: middle;\n",
       "    }\n",
       "\n",
       "    .dataframe tbody tr th {\n",
       "        vertical-align: top;\n",
       "    }\n",
       "\n",
       "    .dataframe thead th {\n",
       "        text-align: right;\n",
       "    }\n",
       "</style>\n",
       "<table border=\"1\" class=\"dataframe\">\n",
       "  <thead>\n",
       "    <tr style=\"text-align: right;\">\n",
       "      <th></th>\n",
       "      <th>user_id</th>\n",
       "      <th>snapshot_mes</th>\n",
       "      <th>FEC_EVENT_MAX</th>\n",
       "      <th>CANT_TOTAL_EVER</th>\n",
       "      <th>CANT_TOTAL_ULT_7D</th>\n",
       "      <th>FEC_EVENT_MENOS_7D</th>\n",
       "      <th>RATIO_VISITA_MADRUGADA</th>\n",
       "      <th>RATIO_VISITA_MANANA</th>\n",
       "      <th>RATIO_VISITA_TARDE</th>\n",
       "      <th>RATIO_VISITA_NOCHE</th>\n",
       "    </tr>\n",
       "  </thead>\n",
       "  <tbody>\n",
       "    <tr>\n",
       "      <th>0</th>\n",
       "      <td>0</td>\n",
       "      <td>9</td>\n",
       "      <td>2018-09-30 20:13:42</td>\n",
       "      <td>4912</td>\n",
       "      <td>90</td>\n",
       "      <td>2018-09-23 20:13:42</td>\n",
       "      <td>0.0</td>\n",
       "      <td>0.466667</td>\n",
       "      <td>0.222222</td>\n",
       "      <td>0.311111</td>\n",
       "    </tr>\n",
       "    <tr>\n",
       "      <th>1</th>\n",
       "      <td>1</td>\n",
       "      <td>9</td>\n",
       "      <td>2018-09-30 20:56:50</td>\n",
       "      <td>1634</td>\n",
       "      <td>26</td>\n",
       "      <td>2018-09-23 20:56:50</td>\n",
       "      <td>0.0</td>\n",
       "      <td>0.961538</td>\n",
       "      <td>0.000000</td>\n",
       "      <td>0.038462</td>\n",
       "    </tr>\n",
       "    <tr>\n",
       "      <th>2</th>\n",
       "      <td>2</td>\n",
       "      <td>9</td>\n",
       "      <td>2018-09-28 00:04:58</td>\n",
       "      <td>1717</td>\n",
       "      <td>15</td>\n",
       "      <td>2018-09-21 00:04:58</td>\n",
       "      <td>0.2</td>\n",
       "      <td>0.466667</td>\n",
       "      <td>0.333333</td>\n",
       "      <td>0.000000</td>\n",
       "    </tr>\n",
       "    <tr>\n",
       "      <th>3</th>\n",
       "      <td>3</td>\n",
       "      <td>9</td>\n",
       "      <td>2018-09-28 16:03:37</td>\n",
       "      <td>1554</td>\n",
       "      <td>61</td>\n",
       "      <td>2018-09-21 16:03:37</td>\n",
       "      <td>0.0</td>\n",
       "      <td>0.049180</td>\n",
       "      <td>0.950820</td>\n",
       "      <td>0.000000</td>\n",
       "    </tr>\n",
       "    <tr>\n",
       "      <th>4</th>\n",
       "      <td>4</td>\n",
       "      <td>9</td>\n",
       "      <td>2018-09-27 22:15:33</td>\n",
       "      <td>2476</td>\n",
       "      <td>48</td>\n",
       "      <td>2018-09-20 22:15:33</td>\n",
       "      <td>0.0</td>\n",
       "      <td>0.250000</td>\n",
       "      <td>0.312500</td>\n",
       "      <td>0.437500</td>\n",
       "    </tr>\n",
       "  </tbody>\n",
       "</table>\n",
       "</div>"
      ],
      "text/plain": [
       "   user_id  snapshot_mes        FEC_EVENT_MAX  CANT_TOTAL_EVER  \\\n",
       "0        0             9  2018-09-30 20:13:42             4912   \n",
       "1        1             9  2018-09-30 20:56:50             1634   \n",
       "2        2             9  2018-09-28 00:04:58             1717   \n",
       "3        3             9  2018-09-28 16:03:37             1554   \n",
       "4        4             9  2018-09-27 22:15:33             2476   \n",
       "\n",
       "   CANT_TOTAL_ULT_7D   FEC_EVENT_MENOS_7D  RATIO_VISITA_MADRUGADA  \\\n",
       "0                 90  2018-09-23 20:13:42                     0.0   \n",
       "1                 26  2018-09-23 20:56:50                     0.0   \n",
       "2                 15  2018-09-21 00:04:58                     0.2   \n",
       "3                 61  2018-09-21 16:03:37                     0.0   \n",
       "4                 48  2018-09-20 22:15:33                     0.0   \n",
       "\n",
       "   RATIO_VISITA_MANANA  RATIO_VISITA_TARDE  RATIO_VISITA_NOCHE  \n",
       "0             0.466667            0.222222            0.311111  \n",
       "1             0.961538            0.000000            0.038462  \n",
       "2             0.466667            0.333333            0.000000  \n",
       "3             0.049180            0.950820            0.000000  \n",
       "4             0.250000            0.312500            0.437500  "
      ]
     },
     "execution_count": 30,
     "metadata": {},
     "output_type": "execute_result"
    }
   ],
   "source": [
    "#LEVANTO LOS DATASETS\n",
    "\n",
    "dataset_ff = pd.read_csv(\"Datasets/dataset_ff.csv\")\n",
    "dataset_cf = pd.read_csv(\"Datasets/dataset_cf.csv\")\n",
    "dataset_lb = pd.read_csv(\"Datasets/dataset_lb.csv\")\n",
    "dataset_am = pd.read_csv(\"Datasets/dataset_am.csv\")\n"
   ]
  },
  {
   "cell_type": "code",
   "execution_count": 16,
   "metadata": {},
   "outputs": [
    {
     "data": {
      "text/plain": [
       "Index(['user_id', 'snapshot_mes', 'FEC_EVENT_MAX', 'CANT_TOTAL_EVER',\n",
       "       'CANT_TOTAL_ULT_7D', 'FEC_EVENT_MENOS_7D', 'RATIO_VISITA_MADRUGADA',\n",
       "       'RATIO_VISITA_MANANA', 'RATIO_VISITA_TARDE', 'RATIO_VISITA_NOCHE'],\n",
       "      dtype='object')"
      ]
     },
     "execution_count": 16,
     "metadata": {},
     "output_type": "execute_result"
    }
   ],
   "source": [
    "# SE BORRAN COLUMNAS DE MAS EN DATASET_FF\n",
    "dataset_ff.columns"
   ]
  },
  {
   "cell_type": "code",
   "execution_count": 31,
   "metadata": {},
   "outputs": [
    {
     "data": {
      "text/plain": [
       "Index(['user_id', 'qty_adopciones_1M', 'qty_adopciones_3M',\n",
       "       'qty_adopciones_6M', 'qty_adopciones_9M', 'mes', 'anio',\n",
       "       'qty_dias_ultima_adopcion', 'qty_dias_ultimo_page_ingreso'],\n",
       "      dtype='object')"
      ]
     },
     "execution_count": 31,
     "metadata": {},
     "output_type": "execute_result"
    }
   ],
   "source": [
    "# SE BORRAN COLUMNAS DE MAS EN DATASET_CF\n",
    "dataset_cf = dataset_cf.drop(['snapshot_mes_x','snapshot_mes_y','snapshot_mes_x.1','snapshot_mes_y.1','USER_ID'], axis = 1)\n",
    "dataset_cf.columns"
   ]
  },
  {
   "cell_type": "code",
   "execution_count": null,
   "metadata": {},
   "outputs": [],
   "source": [
    "# SE BORRAN COLUMNAS DE MAS EN DATASET_lb\n",
    "dataset_lb = dataset_lb.drop([], axis = 1)\n",
    "dataset_lb.columns"
   ]
  },
  {
   "cell_type": "code",
   "execution_count": null,
   "metadata": {},
   "outputs": [],
   "source": [
    "# SE BORRAN COLUMNAS DE MAS EN DATASET_am\n",
    "dataset_am = dataset_am.drop([], axis = 1)\n",
    "dataset_am.columns"
   ]
  },
  {
   "cell_type": "code",
   "execution_count": 32,
   "metadata": {},
   "outputs": [],
   "source": [
    "# MERGE DE TODOS LOS DATASETS\n",
    "dataset_ff_cf = pd.merge(dataset_cf, dataset_ff, how='left', on='user_id')\n",
    "dataset_ff_cf_lb = pd.merge(dataset_ff_cf, dataset_lb, how='left', on='user_id')\n",
    "dataset_ff_cf_lb_am = pd.merge(dataset_ff_cf_lb, dataset_am, how='left', on='user_id')\n",
    "dataset_ff_cf_lb_am.head(5)"
   ]
  },
  {
   "cell_type": "code",
   "execution_count": 23,
   "metadata": {},
   "outputs": [],
   "source": [
    "#SE LE AGREGA EL TARGET AL DATASET FINAL (si, hay que levantar todo esto)\n",
    "\n",
    "df_pageviews = pd.read_csv(\"./data/pageviews.csv\",\n",
    "                   parse_dates=[\"FEC_EVENT\"])\n",
    "df_pageviews_complemento = pd.read_csv(\"./data/pageviews_complemento.csv\",\n",
    "                   parse_dates=[\"FEC_EVENT\"])\n",
    "df_pageviews = pd.concat([df_pageviews, df_pageviews_complemento],ignore_index=True,sort=False).drop_duplicates().reset_index(drop=True)\n",
    "df_conversiones = pd.read_csv(\"./data/conversiones.csv\").drop_duplicates().reset_index(drop=True)"
   ]
  },
  {
   "cell_type": "code",
   "execution_count": 24,
   "metadata": {},
   "outputs": [],
   "source": [
    "def universo_train(df):\n",
    "    universo = pd.DataFrame()\n",
    "    universo['user_id'] = df.USER_ID.unique()\n",
    "    universo['snapshot_mes'] = mes_snapshot\n",
    "    return universo\n",
    "\n",
    "def target(df):\n",
    "    df = pd.merge(df, df_conversiones, how='left', left_on=['user_id'], right_on=['USER_ID'])\n",
    "    df.mes.fillna(value= 99, inplace=True)\n",
    "    df = df.astype({'mes': 'int32'}) \n",
    "    \n",
    "    df['target'] = 0\n",
    "    df.loc[df.mes == df.snapshot_mes +1, 'target'] = 1\n",
    "    df.loc[df.mes == df.snapshot_mes +2, 'target'] = 1\n",
    "    df.loc[df.mes == df.snapshot_mes +3, 'target'] = 1\n",
    "\n",
    "    return (df.groupby(['user_id', 'snapshot_mes'])['target'].max()).to_frame().reset_index()"
   ]
  },
  {
   "cell_type": "code",
   "execution_count": 26,
   "metadata": {},
   "outputs": [],
   "source": [
    "mes_snapshot = 9  #9 para train 12 para scoreo"
   ]
  },
  {
   "cell_type": "code",
   "execution_count": 33,
   "metadata": {},
   "outputs": [],
   "source": [
    "universo = universo_train(df_pageviews)\n",
    "target_universo = target(universo)\n",
    "target_universo = target_universo.drop(['snapshot_mes'], axis = 1)\n",
    "\n",
    "#dataset_ff_cf = pd.merge(dataset_ff_cf, target_universo, how='left', on=['user_id'])\n",
    "dataset_ff_cf_lb_am_T = pd.merge(dataset_ff_cf_lb_am, target_universo, how='left', on=['user_id'])"
   ]
  },
  {
   "cell_type": "code",
   "execution_count": 38,
   "metadata": {},
   "outputs": [
    {
     "data": {
      "text/html": [
       "<div>\n",
       "<style scoped>\n",
       "    .dataframe tbody tr th:only-of-type {\n",
       "        vertical-align: middle;\n",
       "    }\n",
       "\n",
       "    .dataframe tbody tr th {\n",
       "        vertical-align: top;\n",
       "    }\n",
       "\n",
       "    .dataframe thead th {\n",
       "        text-align: right;\n",
       "    }\n",
       "</style>\n",
       "<table border=\"1\" class=\"dataframe\">\n",
       "  <thead>\n",
       "    <tr style=\"text-align: right;\">\n",
       "      <th></th>\n",
       "      <th>user_id</th>\n",
       "      <th>qty_adopciones_1M</th>\n",
       "      <th>qty_adopciones_3M</th>\n",
       "      <th>qty_adopciones_6M</th>\n",
       "      <th>qty_adopciones_9M</th>\n",
       "      <th>mes</th>\n",
       "      <th>anio</th>\n",
       "      <th>qty_dias_ultima_adopcion</th>\n",
       "      <th>qty_dias_ultimo_page_ingreso</th>\n",
       "      <th>snapshot_mes</th>\n",
       "      <th>FEC_EVENT_MAX</th>\n",
       "      <th>CANT_TOTAL_EVER</th>\n",
       "      <th>CANT_TOTAL_ULT_7D</th>\n",
       "      <th>FEC_EVENT_MENOS_7D</th>\n",
       "      <th>RATIO_VISITA_MADRUGADA</th>\n",
       "      <th>RATIO_VISITA_MANANA</th>\n",
       "      <th>RATIO_VISITA_TARDE</th>\n",
       "      <th>RATIO_VISITA_NOCHE</th>\n",
       "    </tr>\n",
       "    <tr>\n",
       "      <th>target</th>\n",
       "      <th></th>\n",
       "      <th></th>\n",
       "      <th></th>\n",
       "      <th></th>\n",
       "      <th></th>\n",
       "      <th></th>\n",
       "      <th></th>\n",
       "      <th></th>\n",
       "      <th></th>\n",
       "      <th></th>\n",
       "      <th></th>\n",
       "      <th></th>\n",
       "      <th></th>\n",
       "      <th></th>\n",
       "      <th></th>\n",
       "      <th></th>\n",
       "      <th></th>\n",
       "      <th></th>\n",
       "    </tr>\n",
       "  </thead>\n",
       "  <tbody>\n",
       "    <tr>\n",
       "      <th>0</th>\n",
       "      <td>11140</td>\n",
       "      <td>11140</td>\n",
       "      <td>11140</td>\n",
       "      <td>11140</td>\n",
       "      <td>11140</td>\n",
       "      <td>11140</td>\n",
       "      <td>11140</td>\n",
       "      <td>11140</td>\n",
       "      <td>11140</td>\n",
       "      <td>11140</td>\n",
       "      <td>11140</td>\n",
       "      <td>11140</td>\n",
       "      <td>11140</td>\n",
       "      <td>11140</td>\n",
       "      <td>11140</td>\n",
       "      <td>11140</td>\n",
       "      <td>11140</td>\n",
       "      <td>11140</td>\n",
       "    </tr>\n",
       "    <tr>\n",
       "      <th>1</th>\n",
       "      <td>389</td>\n",
       "      <td>389</td>\n",
       "      <td>389</td>\n",
       "      <td>389</td>\n",
       "      <td>389</td>\n",
       "      <td>389</td>\n",
       "      <td>389</td>\n",
       "      <td>389</td>\n",
       "      <td>389</td>\n",
       "      <td>389</td>\n",
       "      <td>389</td>\n",
       "      <td>389</td>\n",
       "      <td>389</td>\n",
       "      <td>389</td>\n",
       "      <td>389</td>\n",
       "      <td>389</td>\n",
       "      <td>389</td>\n",
       "      <td>389</td>\n",
       "    </tr>\n",
       "  </tbody>\n",
       "</table>\n",
       "</div>"
      ],
      "text/plain": [
       "        user_id  qty_adopciones_1M  qty_adopciones_3M  qty_adopciones_6M  \\\n",
       "target                                                                     \n",
       "0         11140              11140              11140              11140   \n",
       "1           389                389                389                389   \n",
       "\n",
       "        qty_adopciones_9M    mes   anio  qty_dias_ultima_adopcion  \\\n",
       "target                                                              \n",
       "0                   11140  11140  11140                     11140   \n",
       "1                     389    389    389                       389   \n",
       "\n",
       "        qty_dias_ultimo_page_ingreso  snapshot_mes  FEC_EVENT_MAX  \\\n",
       "target                                                              \n",
       "0                              11140         11140          11140   \n",
       "1                                389           389            389   \n",
       "\n",
       "        CANT_TOTAL_EVER  CANT_TOTAL_ULT_7D  FEC_EVENT_MENOS_7D  \\\n",
       "target                                                           \n",
       "0                 11140              11140               11140   \n",
       "1                   389                389                 389   \n",
       "\n",
       "        RATIO_VISITA_MADRUGADA  RATIO_VISITA_MANANA  RATIO_VISITA_TARDE  \\\n",
       "target                                                                    \n",
       "0                        11140                11140               11140   \n",
       "1                          389                  389                 389   \n",
       "\n",
       "        RATIO_VISITA_NOCHE  \n",
       "target                      \n",
       "0                    11140  \n",
       "1                      389  "
      ]
     },
     "execution_count": 38,
     "metadata": {},
     "output_type": "execute_result"
    }
   ],
   "source": [
    "#Prueba de cuantos 1 y 0 tenemos en el datasets\n",
    "#dataset_ff_cf.groupby('target').count()\n",
    "dataset_ff_cf_lb_am_T.groupby('target').count()"
   ]
  },
  {
   "cell_type": "code",
   "execution_count": null,
   "metadata": {},
   "outputs": [],
   "source": [
    "# EXPORTO EL DATASET FINAL\n",
    "dataset_ff_cf_lb_am_T.to_csv('dataset_ff_cf_lb_am_T.csv', index = None, header=True)"
   ]
  }
 ],
 "metadata": {
  "kernelspec": {
   "display_name": "Python 3",
   "language": "python",
   "name": "python3"
  },
  "language_info": {
   "codemirror_mode": {
    "name": "ipython",
    "version": 3
   },
   "file_extension": ".py",
   "mimetype": "text/x-python",
   "name": "python",
   "nbconvert_exporter": "python",
   "pygments_lexer": "ipython3",
   "version": "3.6.8"
  }
 },
 "nbformat": 4,
 "nbformat_minor": 2
}
